{
 "cells": [
  {
   "cell_type": "code",
   "execution_count": null,
   "metadata": {},
   "outputs": [],
   "source": [
    "## path to the datasets\n",
    "datadir='../Datasets/'\n",
    "\n",
    "## required packages\n",
    "import numpy as np\n",
    "import pandas as pd\n",
    "import matplotlib.pyplot as plt\n",
    "import igraph as ig\n",
    "import partition_igraph\n",
    "from collections import Counter\n",
    "from sklearn.metrics import adjusted_mutual_info_score as AMI\n",
    "import random"
   ]
  },
  {
   "cell_type": "markdown",
   "metadata": {},
   "source": [
    "## 2.4 Community-based anomaly detection\n",
    "\n",
    "In this short notebook, we illustrate an application of community detection: anomaly detection.\n",
    "\n",
    "In a nutshell, using community detection, we look for vertices that are not strongly associated with a community, thus a possible \"outlier\".\n"
   ]
  },
  {
   "cell_type": "markdown",
   "metadata": {},
   "source": [
    "### New dataset: American College Football Graph\n",
    "\n",
    "This is a small graph useful for illustrating anomaly detection methods.\n",
    "\n",
    "The graph consists of 115 US college football teams (nodes) playing games (edges).\n",
    "\n",
    "Teams are part of 12 conferences (the 'communities'):\n",
    "*   0 = Atlantic Coast\n",
    "*   1 = Big East\n",
    "*   2 = Big Ten\n",
    "*   3 = Big Twelve\n",
    "*   4 = Conference USA\n",
    "*   5 = Independents\n",
    "*   6 = Mid-American\n",
    "*   7 = Mountain West\n",
    "*   8 = Pacific Ten\n",
    "*   9 = Southeastern\n",
    "*  10 = Sun Belt\n",
    "*  11 = Western Athletic\n",
    "\n",
    "14 teams out of 115 appear as \"anomalous\", namely:\n",
    "- the 5 teams in #5 conference (Independent) play against teams in other conferences \n",
    "- the 7 teams in #10 conference (Sun Belt) are broken in 2 clumps \n",
    "- 2 teams from #11 conference play mainly with #10 conference\n",
    "\n",
    "[REF]: \"Community structure in social and biological networks\", M. Girvan and M. E. J. Newman\n",
    "PNAS June 11, 2002 99 (12) 7821-7826; https://doi.org/10.1073/pnas.122653799\n",
    "\n",
    "First, we build the graph."
   ]
  },
  {
   "cell_type": "code",
   "execution_count": null,
   "metadata": {},
   "outputs": [],
   "source": [
    "cfg = ig.Graph.Read_Ncol(datadir+'Football/football.edgelist', directed=False)"
   ]
  },
  {
   "cell_type": "markdown",
   "metadata": {},
   "source": [
    "and load the \"ground-truth communities\" (i.e. the conferences)"
   ]
  },
  {
   "cell_type": "code",
   "execution_count": null,
   "metadata": {},
   "outputs": [],
   "source": [
    "c = np.loadtxt(datadir+'Football/football.community',dtype='uint16', usecols=(0))\n",
    "cfg.vs['community'] = [c[int(x['name'])] for x in cfg.vs]"
   ]
  },
  {
   "cell_type": "markdown",
   "metadata": {},
   "source": [
    "Let's look at the College Football Graph and show the conferences in different colors, with anomalies shown as squares."
   ]
  },
  {
   "cell_type": "code",
   "execution_count": null,
   "metadata": {},
   "outputs": [],
   "source": [
    "cfg.vs['shape'] = 'circle'\n",
    "cfg.vs['anomaly'] = False\n",
    "pal = ig.ClusterColoringPalette(n=max(cfg.vs['community'])+1) \n",
    "cfg.vs['color'] = [pal.get(int(i)) for i in cfg.vs['community']]\n",
    "for v in cfg.vs:\n",
    "    if v['community'] in [5,10] or v['name'] in ['28','58']:\n",
    "        v['shape']='square'\n",
    "        v['anomaly']=True\n",
    "ly = cfg.layout_fruchterman_reingold()\n",
    "ig.plot(cfg, layout=ly, bbox=(0,0,500,300), vertex_size=6, edge_color='lightgray')"
   ]
  },
  {
   "cell_type": "markdown",
   "metadata": {},
   "source": [
    "### graph clustering\n",
    "\n",
    "In practice, we usually don't have access to the ground-truth, and we must rely on the communities found with some algorithm(s).\n",
    "\n",
    "We use ECG (ensemble clustering on graphs), which is a good choice with unweighted graphs. We'll do a few runs and keep result with highest modularity."
   ]
  },
  {
   "cell_type": "code",
   "execution_count": null,
   "metadata": {},
   "outputs": [],
   "source": [
    "q = 0\n",
    "for rep in range(10):\n",
    "    ec = cfg.community_ecg(ens_size=32)\n",
    "    if cfg.modularity(ec.membership) > q:\n",
    "        q = cfg.modularity(ec.membership)\n",
    "        cfg.vs['ecg'] = ec.membership\n",
    "print('number of communities found:',np.max(cfg.vs['ecg'])+1)"
   ]
  },
  {
   "cell_type": "markdown",
   "metadata": {},
   "source": [
    "The adjusted mutual information (AMI) is a measure of the cluster quality given ground-truth. Values close to 1 are indicative of very good match.\n"
   ]
  },
  {
   "cell_type": "code",
   "execution_count": null,
   "metadata": {},
   "outputs": [],
   "source": [
    "AMI(cfg.vs['community'], cfg.vs['ecg'])"
   ]
  },
  {
   "cell_type": "markdown",
   "metadata": {},
   "source": [
    "## Community-based anomaly detection\n",
    "\n",
    "We explore two ways to find anomalous nodes based on the hypothesis that \"regular\" nodes are part of one or a small number of communities, while anomalous ones have more heterogeneous edge distribution.\n",
    "\n",
    "We use two simple methods:\n",
    "\n",
    "* the **participation coefficient**, a measure of dispersion of communities amongst a node's neighbours. A **high** value indicative of **outlier**\n",
    "* The ECG clustering method assigns \"weights\" to edges, indicative of how strongly they are \"within\" a community. Nodes strongly in a community are expected to have **high** \"ecg weights\" on edges linking its neighbours, while outliers are expected to have **lower** weights."
   ]
  },
  {
   "cell_type": "code",
   "execution_count": null,
   "metadata": {},
   "outputs": [],
   "source": [
    "def partCoef(l):\n",
    "    \"\"\"Compute the participation coefficient of a list. This is a measure of the homogeneity of a list\"\"\"\n",
    "    s = sum(l)\n",
    "    pc = 1-sum([i**2/s**2 for i in l]) \n",
    "    return pc"
   ]
  },
  {
   "cell_type": "markdown",
   "metadata": {},
   "source": [
    "For each node, list the clusters of its neighbours and compute the participation coefficient. \n",
    "\n",
    "Next we look at the boxplot of \"outliers\" vs \"regular\" nodes."
   ]
  },
  {
   "cell_type": "code",
   "execution_count": null,
   "metadata": {},
   "outputs": [],
   "source": [
    "for v in cfg.vs:\n",
    "    l = list(Counter([cfg.vs[x]['ecg'] for x in cfg.neighbors(v)]).values()) ## neighbour's communities    \n",
    "    v['pc'] = partCoef(l)"
   ]
  },
  {
   "cell_type": "code",
   "execution_count": null,
   "metadata": {},
   "outputs": [],
   "source": [
    "plt.figure(figsize=(6,4))\n",
    "plt.rcParams['font.size'] = '14'\n",
    "X = [v['pc'] for v in cfg.vs if not v['anomaly']]\n",
    "Y = [v['pc'] for v in cfg.vs if v['anomaly']]\n",
    "plt.boxplot([X,Y],labels=['Regular','Outlier'],sym='.',whis=(0,100), widths=.5)\n",
    "plt.ylabel('Participation coefficient',fontsize=14);"
   ]
  },
  {
   "cell_type": "markdown",
   "metadata": {},
   "source": [
    "ECG is an ensemble method where for each edge, a \"weight\" is assigned which is proportional to the number of time this edge was deemed to have both its vertices in the same community.\n",
    "\n",
    "Below, we collect ECG edge weights and compare the distribution for edges touching an outlier vertex or not.\n"
   ]
  },
  {
   "cell_type": "code",
   "execution_count": null,
   "metadata": {},
   "outputs": [],
   "source": [
    "cfg.es['ecg_weight'] = ec.W\n",
    "\n",
    "## label edges touching an outlier node\n",
    "cfg.es['anomaly'] = False\n",
    "for v in cfg.vs:\n",
    "    if v['anomaly']:\n",
    "        for e in cfg.incident(v):\n",
    "            cfg.es[e]['anomaly'] = True \n",
    "\n",
    "x = [e['ecg_weight'] for e in cfg.es if not e['anomaly']]\n",
    "y = [e['ecg_weight'] for e in cfg.es if e['anomaly']]\n",
    "\n",
    "plt.figure(figsize=(6,4))\n",
    "plt.hist([x,y],label=['regular','outlier'])\n",
    "plt.legend();"
   ]
  },
  {
   "cell_type": "markdown",
   "metadata": {},
   "source": [
    "Finally, we compute the average ECG incident edge weights for each node and consider the boxplot of \"outliers\" vs \"regular\" nodes.\n",
    "\n",
    "As we the participation coefficient, we observe good separation between the two classes.\n"
   ]
  },
  {
   "cell_type": "code",
   "execution_count": null,
   "metadata": {},
   "outputs": [],
   "source": [
    "for v in cfg.vs:\n",
    "    v['ecg'] = np.mean([cfg.es[e]['ecg_weight'] for e in cfg.incident(v)])\n",
    "\n",
    "X = [v['ecg'] for v in cfg.vs if v['anomaly']==0]\n",
    "Y = [v['ecg'] for v in cfg.vs if v['anomaly']==1]\n",
    "\n",
    "plt.figure(figsize=(6,4))\n",
    "plt.boxplot([X,Y],labels=['Regular','Outlier'],sym='.',whis=(0,100), widths=.5)\n",
    "plt.ylabel('ECG weights',fontsize=14);"
   ]
  }
 ],
 "metadata": {
  "kernelspec": {
   "display_name": "mining_graphs",
   "language": "python",
   "name": "mining_graphs"
  },
  "language_info": {
   "codemirror_mode": {
    "name": "ipython",
    "version": 3
   },
   "file_extension": ".py",
   "mimetype": "text/x-python",
   "name": "python",
   "nbconvert_exporter": "python",
   "pygments_lexer": "ipython3",
   "version": "3.7.9"
  }
 },
 "nbformat": 4,
 "nbformat_minor": 4
}
