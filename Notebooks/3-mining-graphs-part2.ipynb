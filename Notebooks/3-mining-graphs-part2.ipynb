{
 "cells": [
  {
   "cell_type": "code",
   "execution_count": null,
   "metadata": {},
   "outputs": [],
   "source": [
    "## path to the datasets\n",
    "datadir='../Datasets/'\n",
    "\n",
    "## required packages\n",
    "import numpy as np\n",
    "import pandas as pd\n",
    "import matplotlib.pyplot as plt\n",
    "import igraph as ig\n",
    "import partition_igraph\n",
    "from collections import Counter\n",
    "import random"
   ]
  },
  {
   "cell_type": "markdown",
   "metadata": {},
   "source": [
    "# Part 2 - Clustering\n",
    "\n",
    "First, let's build the airport graph as we did in Part 1."
   ]
  },
  {
   "cell_type": "code",
   "execution_count": null,
   "metadata": {},
   "outputs": [],
   "source": [
    "## the airports (nodes)\n",
    "airport_df = pd.read_csv(datadir + 'Airports/airports_loc.csv')\n",
    "airport_df.head()\n",
    "\n",
    "## read edges from csv file\n",
    "df_edges = pd.read_csv(datadir + 'Airports/connections.csv')\n",
    "df_edges.head() ## look at a few edges\n",
    "\n",
    "## build directed graph\n",
    "tuple_list = [tuple(x) for x in df_edges.values]\n",
    "g = ig.Graph.TupleList(tuple_list, directed=True, edge_attrs=['weight'])\n",
    "\n",
    "## add vertex attributes\n",
    "lookup = {k:v for v,k in enumerate(airport_df['airport'])}\n",
    "l = [lookup[x] for x in g.vs()['name']]\n",
    "g.vs['layout'] = [(airport_df['lon'][i],-airport_df['lat'][i]) for i in l]\n",
    "g.vs['state'] = [airport_df['state'][i] for i in l]\n",
    "g.vs['city'] = [airport_df['city'][i] for i in l]\n",
    "g.vs['color'] = 'lightblue'\n",
    "\n",
    "## undirected graph w/o loops\n",
    "g_und = g.as_undirected(combine_edges=sum)\n",
    "g_und = g_und.simplify(combine_edges=sum)\n"
   ]
  },
  {
   "cell_type": "markdown",
   "metadata": {},
   "source": [
    "## 2.1 Triangles and Transitivity\n",
    "\n",
    "Edges represent relations between entities (nodes) in graphs/networks.\n",
    "\n",
    "The next step is to consider **triads** of nodes \n",
    "\n",
    "Fully connected triads form **triangles**\n",
    "\n",
    "The presence of triangles is indicative of communities (dense subgraph(s) in a graph): ''the friend of my friend is my friend''.\n",
    "\n",
    "Two fundamental measures of the presence of triangles in graphs are:\n",
    "\n",
    "* **transitivity** (global clustering coefficient) measures the proportion of wedges (two-hop path in an undirected graph) that form a triangle\n",
    "* **local transitivity** (local clustering coefficient) for a node is the proportion of pairs of neighbours that form a triangle\n",
    "  * nodes of degree less than 2 are either ignored or given value 0\n",
    "  * **average local transitivity** is obtained by averaging local transitivity over all nodes\n",
    "\n",
    "These measures of transitivity assume **undirected** graphs.\n",
    "\n",
    "While we can define triangles and other motifs for directed graphs, clustering generally assumes undirected graphs.\n",
    "\n",
    "Let's first look for global and average local transitivity."
   ]
  },
  {
   "cell_type": "code",
   "execution_count": null,
   "metadata": {},
   "outputs": [],
   "source": [
    "print('transitivity (global):', g_und.transitivity_undirected())\n",
    "print('avg local trans:', g_und.transitivity_avglocal_undirected(mode='zero'))"
   ]
  },
  {
   "cell_type": "markdown",
   "metadata": {},
   "source": [
    "By setting `mode='zero'`, in `.transitivity_avglocal_undirected()`, nodes with degree < 2 were given 0 local transitivity. `mode` defines how to treat vertices with degree less than two. The default setting is `mode='nan'`, in which case vertices will be excluded from the average."
   ]
  },
  {
   "cell_type": "markdown",
   "metadata": {},
   "source": [
    "Now for each node's local transitivity, and then averaging manually"
   ]
  },
  {
   "cell_type": "code",
   "execution_count": null,
   "metadata": {},
   "outputs": [],
   "source": [
    "g_und.vs['trans'] = g_und.transitivity_local_undirected(mode='zero') \n",
    "print('avg local trans:', np.mean(g_und.vs['trans']))"
   ]
  },
  {
   "cell_type": "markdown",
   "metadata": {},
   "source": [
    "Let's look at a high transitivity example. Here we see that all neighbour pairs are linked by an edge."
   ]
  },
  {
   "cell_type": "code",
   "execution_count": null,
   "metadata": {},
   "outputs": [],
   "source": [
    "v = np.argmax(g_und.vs['trans'])\n",
    "print('airport:',g_und.vs[v]['name'],', transitivity',g_und.vs[v]['trans'],', plotting its ego-net:')\n",
    "g_und.vs[v]['color'] = 'pink'\n",
    "sg = g_und.subgraph(g_und.neighborhood(v))\n",
    "ig.plot(sg,bbox=(400,300), vertex_label=sg.vs['name'], vertex_size=15, layout=sg.vs['layout'],\n",
    "            vertex_label_size=6, margin=50)\n"
   ]
  },
  {
   "cell_type": "markdown",
   "metadata": {},
   "source": [
    "Example with zero local transitivity. Here we see that no neighbour pairs are linked by an edge."
   ]
  },
  {
   "cell_type": "code",
   "execution_count": null,
   "metadata": {},
   "outputs": [],
   "source": [
    "v = [v.index for v in g_und.vs if v['trans'] == 0 and g_und.degree(v)>=3][0]\n",
    "print('airport:',g_und.vs[v]['name'],', transitivity',g_und.vs[v]['trans'],', plotting its ego-net:')\n",
    "g_und.vs[v]['color'] = 'pink'\n",
    "sg = g_und.subgraph(g_und.neighborhood(v))\n",
    "ig.plot(sg,bbox=(400,300), vertex_label=sg.vs['name'], vertex_size=15, layout=sg.vs['layout'],\n",
    "            vertex_label_size=6, margin=50)\n"
   ]
  },
  {
   "cell_type": "markdown",
   "metadata": {},
   "source": [
    "### Directed graphs\n",
    "\n",
    "For directed graphs, there are 16 different possibilities for each **triad**\n",
    "\n",
    "The **triad census** function counts all occurrences, and returns the counts in a specific ordering:\n",
    "```\n",
    "  - C{003} -- the empty graph\n",
    "  - C{012} -- a graph with a single directed edge (C{A --> B, C})\n",
    "  - C{102} -- a graph with a single mutual edge (C{A <-> B, C})\n",
    "  - C{021D} -- the binary out-tree (C{A <-- B --> C})\n",
    "  - C{021U} -- the binary in-tree (C{A --> B <-- C})\n",
    "  - C{021C} -- the directed line (C{A --> B --> C})\n",
    "  - C{111D} -- C{A <-> B <-- C}\n",
    "  - C{111U} -- C{A <-> B --> C}\n",
    "  - C{030T} -- C{A --> B <-- C, A --> C}\n",
    "  - C{030C} -- C{A <-- B <-- C, A --> C}\n",
    "  - C{201} -- C{A <-> B <-> C}\n",
    "  - C{120D} -- C{A <-- B --> C, A <-> C}\n",
    "  - C{120U} -- C{A --> B <-- C, A <-> C}\n",
    "  - C{120C} -- C{A --> B --> C, A <-> C}\n",
    "  - C{210C} -- C{A --> B <-> C, A <-> C}\n",
    "  - C{300} -- the complete graph (C{A <-> B <-> C, A <-> C})\n",
    "```"
   ]
  },
  {
   "cell_type": "markdown",
   "metadata": {},
   "source": [
    "#### Example: the \"300\" triad"
   ]
  },
  {
   "cell_type": "code",
   "execution_count": null,
   "metadata": {},
   "outputs": [],
   "source": [
    "ig.plot(ig.Graph.TupleList([('A','C'),('C','A'),('B','C'),('C','B'),('B','A'),('A','B')], \n",
    "                           directed=True), bbox=(150,150), edge_curved=0.2, edge_arrow_size=.7)"
   ]
  },
  {
   "cell_type": "markdown",
   "metadata": {},
   "source": [
    "#### Example: the \"030C\" triad"
   ]
  },
  {
   "cell_type": "code",
   "execution_count": null,
   "metadata": {},
   "outputs": [],
   "source": [
    "ig.plot(ig.Graph.TupleList([('A','C'),('C','B'),('B','A')], \n",
    "                           directed=True), bbox=(150,150), edge_arrow_size=.7)"
   ]
  },
  {
   "cell_type": "markdown",
   "metadata": {},
   "source": [
    "#### Example: The Airport Graph"
   ]
  },
  {
   "cell_type": "code",
   "execution_count": null,
   "metadata": {
    "scrolled": true
   },
   "outputs": [],
   "source": [
    "tc = g.triad_census()\n",
    "print('number of triads:',np.sum(tc))\n",
    "print('number of complete subgraphs (300):',tc.t300) \n",
    "print('number of 3-edge cycles (030C)',tc.t030C)\n",
    "print('complete list by type:',tuple(tc))"
   ]
  },
  {
   "cell_type": "markdown",
   "metadata": {},
   "source": [
    "### Cliques\n",
    "\n",
    "Triangles are also known as **3-cliques**\n",
    "\n",
    "A **k-clique** is a fully connected subgraph with k nodes\n",
    "\n",
    "The **clique number** is the size of the largest clique.\n",
    "\n",
    "Let's explore the cliques in the Airport graph"
   ]
  },
  {
   "cell_type": "code",
   "execution_count": null,
   "metadata": {
    "scrolled": true
   },
   "outputs": [],
   "source": [
    "print('number of 3-cliques:', len(g_und.cliques(min=3, max=3)))\n",
    "print('number of 4-cliques:', len(g_und.cliques(min=4, max=4)))\n",
    "print('max clique size:', g_und.clique_number())"
   ]
  },
  {
   "cell_type": "markdown",
   "metadata": {},
   "source": [
    "There are many cliques with max clique size."
   ]
  },
  {
   "cell_type": "code",
   "execution_count": null,
   "metadata": {},
   "outputs": [],
   "source": [
    "len(g_und.cliques(min=38))"
   ]
  },
  {
   "cell_type": "markdown",
   "metadata": {},
   "source": [
    "Print some airports in a max clique. These are all major hubs."
   ]
  },
  {
   "cell_type": "code",
   "execution_count": null,
   "metadata": {},
   "outputs": [],
   "source": [
    "[g_und.vs[v]['name'] for v in g_und.cliques(min=38)[0][:10]]"
   ]
  },
  {
   "cell_type": "markdown",
   "metadata": {},
   "source": [
    "### Questions\n",
    "\n",
    "#### 1. Find the node in the undirected airport graph with degree 5 or more having the lowest transitivity.\n"
   ]
  },
  {
   "cell_type": "code",
   "execution_count": null,
   "metadata": {},
   "outputs": [],
   "source": []
  },
  {
   "cell_type": "markdown",
   "metadata": {},
   "source": [
    "#### 2. Plot its ego-net, what do you observe?\n"
   ]
  },
  {
   "cell_type": "code",
   "execution_count": null,
   "metadata": {},
   "outputs": [],
   "source": []
  },
  {
   "cell_type": "markdown",
   "metadata": {},
   "source": [
    "#### 3. Compute its betweenness, compare with average betweenness for all nodes. How would you interpret this result?"
   ]
  },
  {
   "cell_type": "code",
   "execution_count": null,
   "metadata": {},
   "outputs": [],
   "source": []
  },
  {
   "cell_type": "markdown",
   "metadata": {},
   "source": [
    "### Possible Solutions"
   ]
  },
  {
   "cell_type": "code",
   "execution_count": null,
   "metadata": {},
   "outputs": [],
   "source": [
    "## node with low transitivity, degree at least 5\n",
    "x = np.argmin([v['trans'] for v in g_und.vs if g_und.degree(v)>=5])\n",
    "v = [v for v in g_und.vs if g_und.degree(v)>=5][x]\n",
    "v['color'] = 'pink'\n",
    "print('airport:',v['name'],', transitivity',v['trans'],', plotting its ego-net:')\n",
    "sg = g_und.subgraph(g_und.neighborhood(v))\n",
    "ig.plot(sg,bbox=(400,300), vertex_label=sg.vs['name'], vertex_size=15,layout=sg.vs['layout'],\n",
    "            vertex_label_size=6, margin=50)\n",
    "\n",
    "## We see that very few pairs of neighhbours are connected\n"
   ]
  },
  {
   "cell_type": "code",
   "execution_count": null,
   "metadata": {},
   "outputs": [],
   "source": [
    "## compare its betweenness with average node beteweenness\n",
    "g_und.betweenness(v) / np.mean(g_und.betweenness())\n",
    "\n",
    "## it has high betweenness ... \n",
    "## with several neighbours not linked by an edge, this node is on several geodesics!\n"
   ]
  },
  {
   "cell_type": "code",
   "execution_count": null,
   "metadata": {},
   "outputs": [],
   "source": [
    "## clean-up\n",
    "del(g_und.vs['trans'])\n",
    "g_und.vs['color'] = 'lightblue'"
   ]
  },
  {
   "cell_type": "markdown",
   "metadata": {},
   "source": [
    "## 2.2 Clustering\n",
    "\n",
    "Graph clustering, a.k.a. **node partitioning**, is a very active research area, with dozens of algorithms.\n",
    "\n",
    "Some good ones are:\n",
    "\n",
    "* Louvain (multilevel): \n",
    "    * fast, but may return disconnected communities\n",
    "    * unstable for graphs with homogeneous edge weights\n",
    "* Leiden:\n",
    "    * faster than Louvain, connected communities\n",
    "* ECG (ensemble clustering):\n",
    "    * better stability for graphs with homogeneous edge weights\n",
    "\n",
    "Measures of community strength include:\n",
    "* modularity (\"proportion of edges within communities\" - \"expected proportion under null model\")\n",
    "* comparing degree within and between communities\n"
   ]
  },
  {
   "cell_type": "markdown",
   "metadata": {},
   "source": [
    "### Clusters in the airport graph\n",
    "\n",
    "We're going to use the Leiden algorithm. Since it's a randomized algorithm, let's fix a random seed so we can compare results later."
   ]
  },
  {
   "cell_type": "code",
   "execution_count": null,
   "metadata": {},
   "outputs": [],
   "source": [
    "random.seed(31416)"
   ]
  },
  {
   "cell_type": "markdown",
   "metadata": {},
   "source": [
    "Cluster and color nodes with respect to communities"
   ]
  },
  {
   "cell_type": "code",
   "execution_count": null,
   "metadata": {},
   "outputs": [],
   "source": [
    "g_leiden = g_und.community_leiden(objective_function='modularity', weights='weight')\n",
    "## assign colors to different communities\n",
    "pal = ig.ClusterColoringPalette(n=np.max(g_leiden.membership)+1)\n",
    "g_und.vs['color'] = [pal.get(i) for i in g_leiden.membership]"
   ]
  },
  {
   "cell_type": "markdown",
   "metadata": {},
   "source": [
    "Size of each cluster found"
   ]
  },
  {
   "cell_type": "code",
   "execution_count": null,
   "metadata": {},
   "outputs": [],
   "source": [
    "g_leiden.sizes()"
   ]
  },
  {
   "cell_type": "markdown",
   "metadata": {},
   "source": [
    "By visualizing, we see that the 4 big clusters seem related to geographical locations"
   ]
  },
  {
   "cell_type": "code",
   "execution_count": null,
   "metadata": {},
   "outputs": [],
   "source": [
    "ig.plot(g_und, vertex_size=5, edge_color='grey', layout=g.vs['layout'], bbox=(500,400))"
   ]
  },
  {
   "cell_type": "markdown",
   "metadata": {},
   "source": [
    "Display one (small) cluster"
   ]
  },
  {
   "cell_type": "code",
   "execution_count": null,
   "metadata": {},
   "outputs": [],
   "source": [
    "sg = g_leiden.subgraph(6)\n",
    "## closely connected airports in 3 states: WY, NE and ND\n",
    "print(Counter(sg.vs['state']))\n",
    "ig.plot(sg, bbox=(400,300), vertex_label_size=8, vertex_label=sg.vs['name'], \n",
    "        layout=sg.vs['layout'], )"
   ]
  },
  {
   "cell_type": "markdown",
   "metadata": {},
   "source": [
    "Compute modularity (<=1); large positive values of modularity are indicative of community structure. The result here is not very high (more on this later)."
   ]
  },
  {
   "cell_type": "code",
   "execution_count": null,
   "metadata": {
    "scrolled": true
   },
   "outputs": [],
   "source": [
    "g_und.modularity(g_leiden.membership, weights='weight')"
   ]
  },
  {
   "cell_type": "markdown",
   "metadata": {},
   "source": [
    "Collapse communities to show degree between and within communities"
   ]
  },
  {
   "cell_type": "code",
   "execution_count": null,
   "metadata": {},
   "outputs": [],
   "source": [
    "g_und.es['label'] = 1\n",
    "g_und.vs['lat'] = [v['layout'][0] for v in g_und.vs]\n",
    "g_und.vs['lon'] = [v['layout'][1] for v in g_und.vs]\n",
    "g_collapse = g_leiden.cluster_graph(combine_vertices={'lat':np.mean,'lon':np.mean, 'color':'first'}, combine_edges={'label':sum})\n",
    "g_collapse.vs['label'] = [2*G.ecount() for G in g_leiden.subgraphs()]\n",
    "ly = [(v['lat'],v['lon']) for v in g_collapse.vs]\n",
    "ig.plot(g_collapse, layout=ly, bbox=(450,350), vertex_label_size=8, edge_label_size=8)"
   ]
  },
  {
   "cell_type": "markdown",
   "metadata": {},
   "source": [
    "#### Observation\n",
    "\n",
    "From the above, we see that the small community we plotted earlier (airports from WY, NE and ND) has connections with the 4 main clusters; this and the fact that is tightly connected internally explains why a modularity-based algorithm will group those in their own cluster.\n",
    "\n",
    "We also observe a large number of edges between the main 4 communities, thus the relatively low modularity value we observed.\n",
    "\n",
    "Having a few small communities (here with 2 nodes) camn happen for various reasons; here, we see an equal number of edges toward 2 large communities, so it is likely that there is no gain in madularity moving those nodes to one of those communities.\n",
    "Being is a separate component is also a reason not to cluster with other nodes.\n"
   ]
  },
  {
   "cell_type": "code",
   "execution_count": null,
   "metadata": {},
   "outputs": [],
   "source": [
    "## clean up\n",
    "del(g_und.es['label'])\n",
    "del(g_und.vs['lat'])\n",
    "del(g_und.vs['lon'])"
   ]
  },
  {
   "cell_type": "markdown",
   "metadata": {},
   "source": [
    "### Questions\n",
    "\n",
    "#### 1. What are the most frequent states in each of the clusters we found?\n"
   ]
  },
  {
   "cell_type": "code",
   "execution_count": null,
   "metadata": {},
   "outputs": [],
   "source": []
  },
  {
   "cell_type": "markdown",
   "metadata": {},
   "source": [
    "#### 2. Build the subgraph with airports from Hawai (HI) and Florida (FL) only, delete nodes with zero degree and cluster with Leiden; what do you get?\n"
   ]
  },
  {
   "cell_type": "code",
   "execution_count": null,
   "metadata": {},
   "outputs": [],
   "source": []
  },
  {
   "cell_type": "code",
   "execution_count": null,
   "metadata": {},
   "outputs": [],
   "source": []
  },
  {
   "cell_type": "code",
   "execution_count": null,
   "metadata": {},
   "outputs": [],
   "source": []
  },
  {
   "cell_type": "markdown",
   "metadata": {},
   "source": [
    "### Possible Solutions"
   ]
  },
  {
   "cell_type": "code",
   "execution_count": null,
   "metadata": {},
   "outputs": [],
   "source": [
    "## Leiden - most frequent states\n",
    "for sg in g_leiden.subgraphs():\n",
    "    print('cluster:',sg.vcount(),'nodes, frequent states:',Counter(sg.vs['state']).most_common(5))\n"
   ]
  },
  {
   "cell_type": "code",
   "execution_count": null,
   "metadata": {},
   "outputs": [],
   "source": [
    "## Build HI-FL subgraph\n",
    "sg = g_und.subgraph([v for v in g_und.vs if v['state'] in {'HI','FL'}])\n",
    "sg.delete_vertices([v.index for v in sg.vs if sg.degree(v)==0])\n",
    "## Cluster\n",
    "sg_cl = sg.community_leiden(objective_function='modularity', weights='weight')\n",
    "## plot\n",
    "pal = ig.ClusterColoringPalette(n=np.max(sg_cl.membership)+1)\n",
    "sg.vs['color'] = [pal.get(i) for i in sg_cl.membership]\n",
    "ig.plot(sg, vertex_size=5, edge_color='grey', layout=sg.vs['layout'], bbox=(300,200))\n"
   ]
  },
  {
   "cell_type": "markdown",
   "metadata": {},
   "source": [
    "## 2.3 Random Graph Models\n",
    "\n",
    "Random graph models are useful for various reasons:\n",
    "* interpretation of results on real graphs (ex: is this value expected? high? low?)\n",
    "* to compare algorithms (ex: clustering algorithms)\n",
    "* to study theoretical properties\n",
    "\n",
    "Usually, we fix some aspects of the graph, such as the **number of nodes and edges**, and randomly sample.\n",
    "\n",
    "There are many such models, including:\n",
    "* Erdos-Renyi model: fix the number of nodes and edges, and randomly place edges\n",
    "* Configuration model: as above, but given a degree distribution for the nodes\n",
    "* ABCD model: power-law node degree distribution with community structure\n"
   ]
  },
  {
   "cell_type": "markdown",
   "metadata": {},
   "source": [
    "### Compare transitivity and other community values for a random graph\n",
    "\n",
    "Let's build an Erdos-Renyi (ER) graph with same number of nodes/edges as the (undirected) airport graph"
   ]
  },
  {
   "cell_type": "code",
   "execution_count": null,
   "metadata": {},
   "outputs": [],
   "source": [
    "random.seed(31416) ## for better reproducibility\n",
    "g_er = ig.Graph.Erdos_Renyi(n=g_und.vcount(), m=g_und.ecount())\n",
    "print('min degree',np.min(g_er.degree()),'max degree',np.max(g_er.degree()))"
   ]
  },
  {
   "cell_type": "markdown",
   "metadata": {},
   "source": [
    "Let's check that it has the same number of nodes and edges as the airport graph"
   ]
  },
  {
   "cell_type": "code",
   "execution_count": null,
   "metadata": {},
   "outputs": [],
   "source": [
    "(g_er.vcount() == g_und.vcount()) & (g_er.ecount() == g_und.ecount())"
   ]
  },
  {
   "cell_type": "markdown",
   "metadata": {},
   "source": [
    "Compare global transitivity for the random (ER) and airport graphs.\n"
   ]
  },
  {
   "cell_type": "code",
   "execution_count": null,
   "metadata": {},
   "outputs": [],
   "source": [
    "print('transitivity (global), airport graph:    ',g_und.transitivity_undirected())\n",
    "print('transitivity (global), random (ER) graph:',g_er.transitivity_undirected())"
   ]
  },
  {
   "cell_type": "markdown",
   "metadata": {},
   "source": [
    "Number of cliques in the random (ER) graph and clique number.\n",
    "All values much smaller than for the airport graph!\n"
   ]
  },
  {
   "cell_type": "code",
   "execution_count": null,
   "metadata": {},
   "outputs": [],
   "source": [
    "print('Airport graph:')\n",
    "print('number of 3-cliques:', len(g_und.cliques(min=3, max=3)))\n",
    "print('number of 4-cliques:', len(g_und.cliques(min=4, max=4)))\n",
    "print('max clique:', g_und.clique_number(),'\\n')\n",
    "\n",
    "print('Random (ER) graph:')\n",
    "print('number of 3-cliques:', len(g_er.cliques(min=3, max=3)))\n",
    "print('number of 4-cliques:', len(g_er.cliques(min=4, max=4)))\n",
    "print('max clique:', g_er.clique_number())"
   ]
  },
  {
   "cell_type": "markdown",
   "metadata": {},
   "source": [
    "Modularity for Leiden communities in the random (ER) graph and comparison with the airport graph."
   ]
  },
  {
   "cell_type": "code",
   "execution_count": null,
   "metadata": {},
   "outputs": [],
   "source": [
    "print('Modularity, airport graph with Leiden:    ',g_und.modularity(g_leiden.membership, weights='weight'))\n",
    "er_leiden = g_er.community_leiden(objective_function='modularity')\n",
    "print('Modularity, random (ER) graph with Leiden:',g_er.modularity(er_leiden.membership))"
   ]
  },
  {
   "cell_type": "markdown",
   "metadata": {},
   "source": [
    "Cluster sizes, random (ER) graph"
   ]
  },
  {
   "cell_type": "code",
   "execution_count": null,
   "metadata": {},
   "outputs": [],
   "source": [
    "er_leiden.sizes()"
   ]
  },
  {
   "cell_type": "markdown",
   "metadata": {},
   "source": [
    "Let's look at one of the community subgraphs"
   ]
  },
  {
   "cell_type": "code",
   "execution_count": null,
   "metadata": {},
   "outputs": [],
   "source": [
    "er_sg = er_leiden.subgraph(5)\n",
    "ig.plot(er_sg, bbox=(400,300), vertex_size=8)"
   ]
  },
  {
   "cell_type": "markdown",
   "metadata": {},
   "source": [
    "### Question\n",
    "\n",
    "#### 1. Generate a random graph with the same degree distribution  as the undirected airport graph. This is known as a \"configuration model\". Check that it's degree distribution matches the undirected airport graph. How do the number of edges and nodes compare?\n",
    "\n",
    "Hint: for the configuration model, use: ```ig.Graph.Degree_Sequence()``` with the proper degree distribution.\n"
   ]
  },
  {
   "cell_type": "code",
   "execution_count": null,
   "metadata": {},
   "outputs": [],
   "source": []
  },
  {
   "cell_type": "markdown",
   "metadata": {},
   "source": [
    "#### 2. Compute the global transitivity, number of 3 and 4 cliques and clique number for this random graph."
   ]
  },
  {
   "cell_type": "code",
   "execution_count": null,
   "metadata": {},
   "outputs": [],
   "source": []
  },
  {
   "cell_type": "code",
   "execution_count": null,
   "metadata": {},
   "outputs": [],
   "source": []
  },
  {
   "cell_type": "markdown",
   "metadata": {},
   "source": [
    "#### 3. Cluster the random graph with Leiden (using modularity as objective) and compute resulting modularity"
   ]
  },
  {
   "cell_type": "code",
   "execution_count": null,
   "metadata": {},
   "outputs": [],
   "source": []
  },
  {
   "cell_type": "code",
   "execution_count": null,
   "metadata": {},
   "outputs": [],
   "source": []
  },
  {
   "cell_type": "markdown",
   "metadata": {},
   "source": [
    "#### 4. Interpret the findings about the airport graph when comparing it's structure to the Erdos-Renyi (ER) and configuration model random graphs with the same number of nodes/edges with respect to:\n",
    " * Transitivity\n",
    " * Clique distribution\n",
    " * Clustering/modularity"
   ]
  },
  {
   "cell_type": "markdown",
   "metadata": {},
   "source": [
    "### Possible solutions"
   ]
  },
  {
   "cell_type": "code",
   "execution_count": null,
   "metadata": {
    "scrolled": true
   },
   "outputs": [],
   "source": [
    "random.seed(31416) ## for better reproducibility\n",
    "\n",
    "## 1. build random graph\n",
    "g_degseq = ig.Graph.Degree_Sequence(g_und.degree())\n",
    "print('degree distributions match:', g_und.degree() == g_degseq.degree())\n",
    "print('number of nodes match:', g_und.vcount() == g_degseq.vcount())\n",
    "print('number of edges match:', g_und.ecount() == g_degseq.ecount())\n",
    "\n",
    "## 2. transitivity, cliques\n",
    "print('global transitivity:',g_degseq.transitivity_undirected())\n",
    "print('number of 3-cliques:', len(g_degseq.cliques(min=3, max=3)))\n",
    "print('number of 4-cliques:', len(g_degseq.cliques(min=4, max=4)))\n",
    "print('max clique:', g_degseq.clique_number())\n",
    "\n",
    "## 3. clustering and modularity\n",
    "g_degseq_leiden = g_degseq.community_leiden(objective_function='modularity')\n",
    "print('modularity:',g_degseq.modularity(g_degseq_leiden.membership))\n",
    "\n",
    "\n"
   ]
  },
  {
   "cell_type": "markdown",
   "metadata": {},
   "source": [
    "#### Observations\n",
    "\n",
    "The configuration model (degree sequence) has higher transitivity and more cliques than ER, but still less than the reference (airport) graph.\n",
    "Modularity for both random models is lower than the reference graph.\n"
   ]
  },
  {
   "cell_type": "markdown",
   "metadata": {},
   "source": [
    "## Bonus Material\n",
    "See the \"extra\" notebook for Part 2.\n",
    "\n",
    "# To go further\n",
    "\n",
    "More topics can be found in:\n",
    "* Book: https://www.ryerson.ca/mining-complex-networks\n",
    "* Notebooks: https://github.com/ftheberge/GraphMiningNotebooks\n",
    "    \n",
    "These references include:   \n",
    "* more centrality measures\n",
    "* clustering: overlapping clusters, outliers    \n",
    "* degree assortativity\n",
    "* vertex and graph embedding\n",
    "* hypergraphs\n",
    "* network robustness\n",
    "* road networks\n"
   ]
  }
 ],
 "metadata": {
  "kernelspec": {
   "display_name": "mining_graphs",
   "language": "python",
   "name": "mining_graphs"
  },
  "language_info": {
   "codemirror_mode": {
    "name": "ipython",
    "version": 3
   },
   "file_extension": ".py",
   "mimetype": "text/x-python",
   "name": "python",
   "nbconvert_exporter": "python",
   "pygments_lexer": "ipython3",
   "version": "3.7.9"
  }
 },
 "nbformat": 4,
 "nbformat_minor": 4
}
