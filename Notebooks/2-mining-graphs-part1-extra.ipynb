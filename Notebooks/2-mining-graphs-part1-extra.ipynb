{
 "cells": [
  {
   "cell_type": "markdown",
   "metadata": {},
   "source": [
    "# Extra problem - a mystery graph\n",
    "\n",
    "Let's use what we've learned about EDA in Part 1 to figure out what kind of data we have from the data itself.\n",
    "\n",
    "The airport graph, as well as most social type graphs, have some common structure: \n",
    "* **power-law** degree distribution\n",
    "* **small world** behaviour (a.k.a. 6-degree of separation)\n",
    "    \n",
    "In the `Datasets/Example` directory, there are two files:\n",
    "* edges: 2-ples, undirected, unweighted edges (no header)  (`.ncol` format)\n",
    "* nodes: csv file with node attributes (with header)\n",
    "\n",
    "Beware: node names are integers\n"
   ]
  },
  {
   "cell_type": "code",
   "execution_count": null,
   "metadata": {},
   "outputs": [],
   "source": [
    "#### path to the datasets\n",
    "datadir='../Datasets/'\n",
    "\n",
    "## required packages\n",
    "import numpy as np\n",
    "import pandas as pd\n",
    "import matplotlib.pyplot as plt\n",
    "import igraph as ig\n",
    "import partition_igraph\n",
    "from collections import Counter\n",
    "from sklearn.metrics import adjusted_rand_score as ARI\n",
    "from sklearn.metrics import adjusted_mutual_info_score as AMI\n"
   ]
  },
  {
   "cell_type": "markdown",
   "metadata": {},
   "source": [
    "#### 1. Build an undirected, unweighed graph using the 'edges' file and remove loops; how many nodes/edges are there?\n",
    "\n",
    "**Hint:** there are various ways to create an igraph by reading from a file via methods of the form `ig.Graph.Read*`. You'll want to find the method that works with `.ncol` format."
   ]
  },
  {
   "cell_type": "code",
   "execution_count": null,
   "metadata": {},
   "outputs": [],
   "source": []
  },
  {
   "cell_type": "code",
   "execution_count": null,
   "metadata": {},
   "outputs": [],
   "source": []
  },
  {
   "cell_type": "code",
   "execution_count": null,
   "metadata": {},
   "outputs": [],
   "source": []
  },
  {
   "cell_type": "markdown",
   "metadata": {},
   "source": [
    "#### 2. Plot a histogram of the degree distribution"
   ]
  },
  {
   "cell_type": "code",
   "execution_count": null,
   "metadata": {},
   "outputs": [],
   "source": []
  },
  {
   "cell_type": "code",
   "execution_count": null,
   "metadata": {},
   "outputs": [],
   "source": []
  },
  {
   "cell_type": "markdown",
   "metadata": {},
   "source": [
    "#### 3. Find the mean/max path lengths from a few nodes to all nodes. From the results and the previous step ... what do you think this graph could be?"
   ]
  },
  {
   "cell_type": "code",
   "execution_count": null,
   "metadata": {},
   "outputs": [],
   "source": []
  },
  {
   "cell_type": "code",
   "execution_count": null,
   "metadata": {},
   "outputs": [],
   "source": []
  },
  {
   "cell_type": "code",
   "execution_count": null,
   "metadata": {},
   "outputs": [],
   "source": []
  },
  {
   "cell_type": "markdown",
   "metadata": {},
   "source": [
    "#### 4. Load the node attributes, which include lat/lon.  Use those to plot the graph, what now?\n",
    "\n",
    "**Note:** There are more nodes in the nodes file than appear in the edges file"
   ]
  },
  {
   "cell_type": "code",
   "execution_count": null,
   "metadata": {},
   "outputs": [],
   "source": []
  },
  {
   "cell_type": "code",
   "execution_count": null,
   "metadata": {},
   "outputs": [],
   "source": []
  },
  {
   "cell_type": "code",
   "execution_count": null,
   "metadata": {},
   "outputs": [],
   "source": []
  },
  {
   "cell_type": "code",
   "execution_count": null,
   "metadata": {},
   "outputs": [],
   "source": []
  },
  {
   "cell_type": "markdown",
   "metadata": {},
   "source": [
    "### Possible Solutions"
   ]
  },
  {
   "cell_type": "code",
   "execution_count": null,
   "metadata": {},
   "outputs": [],
   "source": [
    "gr = ig.Graph.Read_Ncol(datadir+'Example/edges', directed=False, )\n",
    "print(gr.vcount(), 'nodes and',gr.ecount(),'edges')\n"
   ]
  },
  {
   "cell_type": "code",
   "execution_count": null,
   "metadata": {},
   "outputs": [],
   "source": [
    "## 1. read edge list and build undirected simple graph\n",
    "gr = ig.Graph.Read_Ncol(datadir+'Example/edges', directed=False)\n",
    "gr = gr.simplify()\n",
    "print(gr.vcount(), 'nodes and',gr.ecount(),'edges')\n",
    "## vertex names are integers stored as strings\n",
    "print(gr.vs['name'][:10])"
   ]
  },
  {
   "cell_type": "code",
   "execution_count": null,
   "metadata": {},
   "outputs": [],
   "source": [
    "## 2. degree distribution - we see mostly small values ...\n",
    "print('max:',np.max(gr.degree()))\n",
    "plt.hist(gr.degree(), bins=16);"
   ]
  },
  {
   "cell_type": "code",
   "execution_count": null,
   "metadata": {},
   "outputs": [],
   "source": [
    "## 3. shortest paths for some a few node(s) -- much larger values than the airport graph ...\n",
    "print('number of nodes:',gr.vcount())\n",
    "for v in [0,1000]:\n",
    "    print(\"\\nlooking at node:\",v)\n",
    "    sp = gr.distances(source=v)\n",
    "    print('number of unreacheable nodes:',sum([i == np.inf for i in sp[0]]))\n",
    "    print('mean number of hops to other nodes:',np.mean([i for i in sp[0] if i != np.inf ]))\n",
    "    print('max number of hops to other nodes:',np.max([i for i in sp[0] if i != np.inf ]))\n"
   ]
  },
  {
   "cell_type": "code",
   "execution_count": null,
   "metadata": {},
   "outputs": [],
   "source": [
    "## 4. read node attributes\n",
    "D = pd.read_csv(datadir+'Example/nodes')\n",
    "print(D.shape) \n",
    "## nb: there are more nodes here than in the graph (13844) ... \n",
    "D.head()"
   ]
  },
  {
   "cell_type": "code",
   "execution_count": null,
   "metadata": {},
   "outputs": [],
   "source": [
    "## We have attribute by vertex name -- map to proper indices\n",
    "lookup = {str(k):v for v,k in enumerate(D['name'])}\n",
    "l = [lookup[x] for x in gr.vs()['name']]\n",
    "\n",
    "## store layout attributes in graph and plot\n",
    "## nb: we use negative latitude for layout due to location of origin\n",
    "gr.vs['layout'] = [(D['lon'][i],-D['lat'][i]) for i in l]\n",
    "ig.plot(gr, bbox=(500,400), layout = gr.vs['layout'], vertex_size=3, vertex_color='lightblue', margin=50)\n"
   ]
  },
  {
   "cell_type": "markdown",
   "metadata": {},
   "source": [
    "### Europe Electric Grid\n",
    "\n",
    "Network of high voltage grid in Europe. Vertices are stations and edges are the lines connecting them.\n",
    "More details at: https://zenodo.org/record/47317#.Xt6nzy3MxTY\n"
   ]
  }
 ],
 "metadata": {
  "kernelspec": {
   "display_name": "Python [conda env:mining_graphs]",
   "language": "python",
   "name": "conda-env-mining_graphs-py"
  },
  "language_info": {
   "codemirror_mode": {
    "name": "ipython",
    "version": 3
   },
   "file_extension": ".py",
   "mimetype": "text/x-python",
   "name": "python",
   "nbconvert_exporter": "python",
   "pygments_lexer": "ipython3",
   "version": "3.7.9"
  }
 },
 "nbformat": 4,
 "nbformat_minor": 4
}
