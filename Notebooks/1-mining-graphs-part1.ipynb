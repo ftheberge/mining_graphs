{
 "cells": [
  {
   "cell_type": "markdown",
   "metadata": {},
   "source": [
    "## Required packages\n",
    "\n",
    "See the README for instructions on how to set up and activate a minimal conda environment that includes the packages necessary to run this notebook. "
   ]
  },
  {
   "cell_type": "code",
   "execution_count": null,
   "metadata": {},
   "outputs": [],
   "source": [
    "## path to the datasets\n",
    "datadir='../Datasets/'\n",
    "\n",
    "## required packages\n",
    "import numpy as np\n",
    "import pandas as pd\n",
    "import matplotlib.pyplot as plt\n",
    "import igraph as ig\n",
    "import partition_igraph\n",
    "from collections import Counter"
   ]
  },
  {
   "cell_type": "markdown",
   "metadata": {},
   "source": [
    "# Part 1 - Basic Concepts and Exploratory Data Analysis (EDA)\n",
    "\n",
    "igraph is a very powerful tool for graph analysis, is scalable (C background) and has R, Python and now Mathematica interfaces. We will introduce how to work with graphs in igraph in this section. \n",
    "\n",
    "**Note:** While we will use also igraph for visualization today, igraph is NOT the best tool for graph visualization, there are more specialized tools for this such as Graphviz, Bokeh, etc. "
   ]
  },
  {
   "cell_type": "markdown",
   "metadata": {},
   "source": [
    "## 1.1 Relational data as graphs\n",
    "\n",
    "We will use the open source US airport graph as our main dataset:\n",
    "\n",
    "* 2008 air traffic in the USA\n",
    "* 464 nodes representing airports\n",
    "* 12,000 edges representing travel from airport A to airport B, weighted by number of passengers \n",
    "* Some extra node attributes (city, state, lat/lon)\n",
    "\n",
    "First, let's load the nodes (vertices), in this case the list of airports.\n",
    "\n",
    "Those can be represented in a simple **data frame** as a list of objects with some features."
   ]
  },
  {
   "cell_type": "code",
   "execution_count": null,
   "metadata": {},
   "outputs": [],
   "source": [
    "airport_df = pd.read_csv(datadir + 'Airports/airports_loc.csv')\n",
    "airport_df.head()"
   ]
  },
  {
   "cell_type": "markdown",
   "metadata": {},
   "source": [
    "What makes the data **relational** is that we also have **pairwise relations** between the airports, namely the **volume of passengers**. \n",
    "\n",
    "Those are the **edges** in our graph/network. \n",
    "\n",
    "Some initial questions to ask when looking at (pairwise) relational data:\n",
    "* is there a sense of **direction** to the relationship? (directed vs undirected graphs)\n",
    "    * ex: direction of travel from airport A to B\n",
    "    * ex: I follow you vs. we are friends\n",
    "\n",
    "* are some ties **stronger** than others? This is usually modelled in one of two ways:\n",
    "  * **weights**: higher weights can mean stronger ties (ex: number of passengers; number of common friends);\n",
    "  * **distance**: smaller distance can mean stronger ties (ex: commute time between cities; resistance in an electric circuit)\n",
    "\n",
    "* can there be a relationship with oneself? This is modelled by **loops** \n",
    "  * ex: flight back to the same airport; \n",
    "\n",
    "* are there other **attributes**? This can either be of the nodes or the edges.\n",
    "  * ex: city, state as a node attributes\n",
    "  \n",
    "The edges for the airport graph are the connections between the airports. Let's start by loading them into a pandas dataframe. "
   ]
  },
  {
   "cell_type": "code",
   "execution_count": null,
   "metadata": {},
   "outputs": [],
   "source": [
    "df_edges = pd.read_csv(datadir + 'Airports/connections.csv')\n",
    "df_edges.head() ## look at a few edges"
   ]
  },
  {
   "cell_type": "markdown",
   "metadata": {},
   "source": [
    "### Build a weighted directed graph from the edges\n",
    "\n",
    "One way to create a graph in igraph is by handing it a list of edges in tuples of the form `(source, target, weight)`. \n",
    "\n",
    "We'll convert the above dataframe to a list of tuples and create a directed, weighted graph from it. "
   ]
  },
  {
   "cell_type": "code",
   "execution_count": null,
   "metadata": {},
   "outputs": [],
   "source": [
    "tuple_list = [tuple(x) for x in df_edges.values]\n",
    "g = ig.Graph.TupleList(tuple_list, directed=True, edge_attrs=['weight'])"
   ]
  },
  {
   "cell_type": "markdown",
   "metadata": {},
   "source": [
    "### Graph Objects in igraph\n",
    "\n",
    "A graph in igraph consists of:\n",
    "* a **vertex** sequence object, with 0-based indices\n",
    "* an **edge** sequence object, each connecting a 2-ple of vertices\n",
    "\n",
    "Note: node and vertex mean the same thing. igraph uses the language of vertices and we will use node and vertex interchangeably.\n",
    "\n",
    "**WARNING**: node names, if stored, can also be integers and may not correspond to node indices.\n"
   ]
  },
  {
   "cell_type": "markdown",
   "metadata": {},
   "source": [
    "### Vertices"
   ]
  },
  {
   "cell_type": "markdown",
   "metadata": {},
   "source": [
    "Vertices can be accessed by index (NOT the same thing as accessing the vertex by the name)"
   ]
  },
  {
   "cell_type": "code",
   "execution_count": null,
   "metadata": {},
   "outputs": [],
   "source": [
    "g.vs[0]"
   ]
  },
  {
   "cell_type": "markdown",
   "metadata": {},
   "source": [
    "It's useful to be able to `.find()` a vertex given its name (be careful if names are also integers!)"
   ]
  },
  {
   "cell_type": "code",
   "execution_count": null,
   "metadata": {},
   "outputs": [],
   "source": [
    "g.vs.find('LAX')"
   ]
  },
  {
   "cell_type": "code",
   "execution_count": null,
   "metadata": {},
   "outputs": [],
   "source": [
    "g.vs.find('LAX').index"
   ]
  },
  {
   "cell_type": "markdown",
   "metadata": {},
   "source": [
    "`.find()` returns the first vertex given some conditions\n",
    "\n",
    "`.select()` returns all vertices given some condition\n",
    "\n",
    "```\n",
    "Keyword arguments can be used to filter the vertices based on their attributes. The name of the keyword specifies \n",
    "the name of the attribute and the filtering operator, they should be concatenated by an underscore character. \n",
    "Possible operators are:\n",
    "\n",
    "    eq: equal to\n",
    "    ne: not equal to\n",
    "    lt: less than\n",
    "    gt: greater than\n",
    "    le: less than or equal to\n",
    "    ge: greater than or equal to\n",
    "    in: checks if the value of an attribute is in a given list\n",
    "    notin: checks if the value of an attribute is not in a given list\n",
    "```\n"
   ]
  },
  {
   "cell_type": "markdown",
   "metadata": {},
   "source": [
    "For example, we can use `.select()` to see here that there are no airports with `abc` in it."
   ]
  },
  {
   "cell_type": "code",
   "execution_count": null,
   "metadata": {},
   "outputs": [],
   "source": [
    "len(g.vs.select(name = 'abc'))"
   ]
  },
  {
   "cell_type": "markdown",
   "metadata": {},
   "source": [
    "And multiple airports starting with `Y` or `Z`"
   ]
  },
  {
   "cell_type": "code",
   "execution_count": null,
   "metadata": {},
   "outputs": [],
   "source": [
    "len(g.vs.select(name_ge = 'Y'))"
   ]
  },
  {
   "cell_type": "code",
   "execution_count": null,
   "metadata": {},
   "outputs": [],
   "source": [
    "[v['name'] for v in g.vs.select(name_ge = 'Y')]"
   ]
  },
  {
   "cell_type": "markdown",
   "metadata": {},
   "source": [
    "The vertex sequence is a python iterable, so things like list comprehension work on it:"
   ]
  },
  {
   "cell_type": "code",
   "execution_count": null,
   "metadata": {},
   "outputs": [],
   "source": [
    "[v for v in g.vs[:5]]"
   ]
  },
  {
   "cell_type": "markdown",
   "metadata": {},
   "source": [
    "Any vertex attribute may be added. In this case, the vertex set is used as a dictionary where the keys are the\n",
    "attribute names. The values corresponding to the keys are the values of the given attribute for every vertex selected by the sequence. "
   ]
  },
  {
   "cell_type": "code",
   "execution_count": null,
   "metadata": {},
   "outputs": [],
   "source": [
    "g.vs[0]['color'] = ['green']\n",
    "[v for v in g.vs][:5]"
   ]
  },
  {
   "cell_type": "markdown",
   "metadata": {},
   "source": [
    "If you specify a sequence that is shorter than the number of vertices in\n",
    "vertex sequence, the sequence is reused:"
   ]
  },
  {
   "cell_type": "code",
   "execution_count": null,
   "metadata": {},
   "outputs": [],
   "source": [
    "g.vs['color'] = ['lightblue', 'pink', 'purple']\n",
    "[v for v in g.vs][:5]"
   ]
  },
  {
   "cell_type": "markdown",
   "metadata": {},
   "source": [
    "For later visualization, let's reset all of the vertices to `lightblue`."
   ]
  },
  {
   "cell_type": "code",
   "execution_count": null,
   "metadata": {},
   "outputs": [],
   "source": [
    "g.vs['color'] = 'lightblue'"
   ]
  },
  {
   "cell_type": "markdown",
   "metadata": {},
   "source": [
    "It's easy to access the number of vertices, in this case, the number of airports. "
   ]
  },
  {
   "cell_type": "code",
   "execution_count": null,
   "metadata": {},
   "outputs": [],
   "source": [
    "g.vcount()"
   ]
  },
  {
   "cell_type": "markdown",
   "metadata": {},
   "source": [
    "### Edges"
   ]
  },
  {
   "cell_type": "markdown",
   "metadata": {},
   "source": [
    "Edges are  accessed by index in the edge sequence"
   ]
  },
  {
   "cell_type": "code",
   "execution_count": null,
   "metadata": {},
   "outputs": [],
   "source": [
    "g.es[0]"
   ]
  },
  {
   "cell_type": "markdown",
   "metadata": {},
   "source": [
    "Edges have a tuple of vertex indices of an edge representing `(source, target)`"
   ]
  },
  {
   "cell_type": "code",
   "execution_count": null,
   "metadata": {},
   "outputs": [],
   "source": [
    "g.es[0].tuple"
   ]
  },
  {
   "cell_type": "code",
   "execution_count": null,
   "metadata": {},
   "outputs": [],
   "source": [
    "g.es[0].source, g.es[0].target"
   ]
  },
  {
   "cell_type": "markdown",
   "metadata": {},
   "source": [
    "Let's look up the details of the edge. "
   ]
  },
  {
   "cell_type": "code",
   "execution_count": null,
   "metadata": {},
   "outputs": [],
   "source": [
    "e_idx = 0\n",
    "\n",
    "source_idx = g.es[e_idx].tuple[0]\n",
    "target_idx = g.es[e_idx].tuple[1]\n",
    "\n",
    "source_name = g.vs[source_idx]['name']\n",
    "target_name = g.vs[target_idx]['name']\n",
    "\n",
    "edge_weight = g.es[e_idx]['weight']\n",
    "\n",
    "print(source_name, '--->' ,target_name,'has weight',edge_weight)"
   ]
  },
  {
   "cell_type": "code",
   "execution_count": null,
   "metadata": {},
   "outputs": [],
   "source": [
    "# package this in a function\n",
    "def print_edge_details(g, e_idx):\n",
    "    \"\"\"Helper function taking a graph and edge index to display edge information\"\"\"\n",
    "    print(g.vs[g.es[e_idx].tuple[0]]['name'], '--->',\n",
    "          g.vs[g.es[e_idx].tuple[1]]['name'], 'has weight',g.es[e_idx]['weight'])"
   ]
  },
  {
   "cell_type": "code",
   "execution_count": null,
   "metadata": {},
   "outputs": [],
   "source": [
    "print_edge_details(g, 0)"
   ]
  },
  {
   "cell_type": "markdown",
   "metadata": {},
   "source": [
    "Is there an edge in the other direction? We can check by looking up an edge by vertex ids."
   ]
  },
  {
   "cell_type": "code",
   "execution_count": null,
   "metadata": {},
   "outputs": [],
   "source": [
    "g.are_connected(target_idx, source_idx)"
   ]
  },
  {
   "cell_type": "markdown",
   "metadata": {},
   "source": [
    "Yes, there's an edge. Let's check it's index in the edge sequence. "
   ]
  },
  {
   "cell_type": "code",
   "execution_count": null,
   "metadata": {},
   "outputs": [],
   "source": [
    "rev_e_idx = g.get_eid(target_idx, source_idx)\n",
    "rev_e_idx"
   ]
  },
  {
   "cell_type": "code",
   "execution_count": null,
   "metadata": {},
   "outputs": [],
   "source": [
    "print_edge_details(g, rev_e_idx)"
   ]
  },
  {
   "cell_type": "markdown",
   "metadata": {},
   "source": [
    "Some routes are only one-way"
   ]
  },
  {
   "cell_type": "code",
   "execution_count": null,
   "metadata": {},
   "outputs": [],
   "source": [
    "g.vs.find('BMI').index"
   ]
  },
  {
   "cell_type": "markdown",
   "metadata": {},
   "source": [
    "Let's check BMI -> SFO (100 to 0)"
   ]
  },
  {
   "cell_type": "code",
   "execution_count": null,
   "metadata": {},
   "outputs": [],
   "source": [
    "g.are_connected(100, 0)"
   ]
  },
  {
   "cell_type": "markdown",
   "metadata": {},
   "source": [
    "It's connected, so let's get an edge from BMI to SFO"
   ]
  },
  {
   "cell_type": "code",
   "execution_count": null,
   "metadata": {},
   "outputs": [],
   "source": [
    "g.es[g.get_eid(100,0)]"
   ]
  },
  {
   "cell_type": "markdown",
   "metadata": {},
   "source": [
    "What about in the other direction, SFO -> BMI?"
   ]
  },
  {
   "cell_type": "code",
   "execution_count": null,
   "metadata": {},
   "outputs": [],
   "source": [
    "g.are_connected(0, 100)"
   ]
  },
  {
   "cell_type": "markdown",
   "metadata": {},
   "source": [
    "What if we want to find all routes orignating from SFO? We can do this by asking which edges this vertex is **incident** on."
   ]
  },
  {
   "cell_type": "code",
   "execution_count": null,
   "metadata": {},
   "outputs": [],
   "source": [
    "len(g.incident(0, mode='out'))"
   ]
  },
  {
   "cell_type": "markdown",
   "metadata": {},
   "source": [
    "There are a lot. Let's see what a few of them are. "
   ]
  },
  {
   "cell_type": "code",
   "execution_count": null,
   "metadata": {},
   "outputs": [],
   "source": [
    "n = 5\n",
    "for e_idx in  g.incident(0, mode='out')[:n]:\n",
    "    print_edge_details(g, e_idx)"
   ]
  },
  {
   "cell_type": "markdown",
   "metadata": {},
   "source": [
    "Number of edges"
   ]
  },
  {
   "cell_type": "code",
   "execution_count": null,
   "metadata": {},
   "outputs": [],
   "source": [
    "g.ecount()"
   ]
  },
  {
   "cell_type": "markdown",
   "metadata": {},
   "source": [
    "### Attributes\n",
    "\n",
    "A common **edge attribute** is the edge weight, or distance. \n",
    "\n",
    "For the airport dataset, we also have a few **node attributes** that we already saw:\n",
    " * City and state\n",
    " * Latitude and longitude (useful for nice layout)\n",
    "\n",
    "Let's add them to the graph."
   ]
  },
  {
   "cell_type": "code",
   "execution_count": null,
   "metadata": {},
   "outputs": [],
   "source": [
    "airport_df.head()"
   ]
  },
  {
   "cell_type": "markdown",
   "metadata": {},
   "source": [
    "We have attributes by airport code, which is our vertex names. \n",
    "\n",
    "We need to lookup the vertex indices to add the attributes. "
   ]
  },
  {
   "cell_type": "code",
   "execution_count": null,
   "metadata": {},
   "outputs": [],
   "source": [
    "for index, row in airport_df.iterrows():\n",
    "    v = g.vs.find(row['airport'])\n",
    "    v['state'] = row['state']\n",
    "    v['city'] = row['city']\n",
    "    v['layout'] = (row['lon'],-row['lat'])    "
   ]
  },
  {
   "cell_type": "markdown",
   "metadata": {},
   "source": [
    "A faster mehod is to build a lookup dictionary to help with transitioning between the dataframe indices and the vertex sequence index of our vertices"
   ]
  },
  {
   "cell_type": "code",
   "execution_count": null,
   "metadata": {},
   "outputs": [],
   "source": [
    "lookup = {k:v for v,k in enumerate(airport_df['airport'])}\n",
    "l = [lookup[x] for x in g.vs()['name']] ## order of nodes in our graph"
   ]
  },
  {
   "cell_type": "code",
   "execution_count": null,
   "metadata": {},
   "outputs": [],
   "source": [
    "## sanity check\n",
    "v = 0\n",
    "print('vertex',v,':',g.vs[v]['name'], 'is at row', l[v])\n",
    "print(airport_df.loc[l[v]])"
   ]
  },
  {
   "cell_type": "markdown",
   "metadata": {},
   "source": [
    "Let's add the attributes to the graph.\n",
    "\n",
    "nb: we use layout = (longitude, -latitude) due to location of origin"
   ]
  },
  {
   "cell_type": "code",
   "execution_count": null,
   "metadata": {},
   "outputs": [],
   "source": [
    "g.vs['layout'] = [(airport_df['lon'][i],-airport_df['lat'][i]) for i in l]\n",
    "g.vs['state'] = [airport_df['state'][i] for i in l]\n",
    "g.vs['city'] = [airport_df['city'][i] for i in l]"
   ]
  },
  {
   "cell_type": "markdown",
   "metadata": {},
   "source": [
    "Let's look at one vertex now, to see the new attributes."
   ]
  },
  {
   "cell_type": "code",
   "execution_count": null,
   "metadata": {},
   "outputs": [],
   "source": [
    "g.vs[0]"
   ]
  },
  {
   "cell_type": "markdown",
   "metadata": {},
   "source": [
    "### Subgraphs and different types of graphs\n",
    "To make our next analysis easier, we'll work off of a small subgraph."
   ]
  },
  {
   "cell_type": "code",
   "execution_count": null,
   "metadata": {},
   "outputs": [],
   "source": [
    "subgraph_nodes = [g.vs.find(name='LAX').index,\n",
    "                  g.vs.find(name='SFO').index,\n",
    "                  g.vs.find(name='OAK').index]\n",
    "subgraph_nodes"
   ]
  },
  {
   "cell_type": "markdown",
   "metadata": {},
   "source": [
    "It's easy to get an induced subgraph from a list of nodes"
   ]
  },
  {
   "cell_type": "code",
   "execution_count": null,
   "metadata": {},
   "outputs": [],
   "source": [
    "sg = g.subgraph(subgraph_nodes)"
   ]
  },
  {
   "cell_type": "code",
   "execution_count": null,
   "metadata": {},
   "outputs": [],
   "source": [
    "ig.plot(sg, bbox=(250,250), vertex_label=sg.vs['name'], \n",
    "        vertex_label_size=8, margin=50)"
   ]
  },
  {
   "cell_type": "markdown",
   "metadata": {},
   "source": [
    "What if we want to know how many people travelled between the airports? In this case we don't care about the direction. We can do this by creating an undirected weighted graph, where the new weight are the summed edge weights from before."
   ]
  },
  {
   "cell_type": "code",
   "execution_count": null,
   "metadata": {},
   "outputs": [],
   "source": [
    "sg_und = sg.as_undirected(combine_edges=sum)"
   ]
  },
  {
   "cell_type": "code",
   "execution_count": null,
   "metadata": {},
   "outputs": [],
   "source": [
    "ig.plot(sg_und, bbox=(250,250), vertex_label=sg.vs['name'], \n",
    "        vertex_label_size=8, margin=50)\n"
   ]
  },
  {
   "cell_type": "markdown",
   "metadata": {},
   "source": [
    "If we want to get rid of the loops, we can use `simplify`."
   ]
  },
  {
   "cell_type": "code",
   "execution_count": null,
   "metadata": {},
   "outputs": [],
   "source": [
    "sg = sg.simplify(combine_edges=sum)"
   ]
  },
  {
   "cell_type": "code",
   "execution_count": null,
   "metadata": {},
   "outputs": [],
   "source": [
    "ig.plot(sg, bbox=(250,250), vertex_label=sg.vs['name'], \n",
    "        vertex_label_size=8, margin=50)"
   ]
  },
  {
   "cell_type": "markdown",
   "metadata": {},
   "source": [
    "Combining the above, we get a simple, undirected graph. "
   ]
  },
  {
   "cell_type": "code",
   "execution_count": null,
   "metadata": {},
   "outputs": [],
   "source": [
    "ig.plot(sg.as_undirected(combine_edges=sum),bbox=(250,250), vertex_label=sg.vs['name'], \n",
    "        vertex_label_size=8, margin=50)\n"
   ]
  },
  {
   "cell_type": "markdown",
   "metadata": {},
   "source": [
    "We've been carrying the weights through, so let's visualize them by setting an edge width attribute. Here we get a weighted digraph."
   ]
  },
  {
   "cell_type": "code",
   "execution_count": null,
   "metadata": {
    "scrolled": true
   },
   "outputs": [],
   "source": [
    "sg.es['width'] = [int(np.log10(x)+1) for x in sg.es['weight']]\n",
    "ig.plot(sg, bbox=(250,250), vertex_label=sg.vs['name'], \n",
    "        vertex_label_size=8, margin=50)"
   ]
  },
  {
   "cell_type": "markdown",
   "metadata": {},
   "source": [
    "We can also print some edge labels, in this case we'll display the edge weights as the labels."
   ]
  },
  {
   "cell_type": "code",
   "execution_count": null,
   "metadata": {},
   "outputs": [],
   "source": [
    "sg.es['width'] = 1\n",
    "sg.es['label'] = sg.es['weight']\n",
    "\n",
    "ig.plot(sg, bbox=(300,300), vertex_label=sg.vs['name'], \n",
    "        vertex_label_size=8, margin=50, edge_label_size=7)"
   ]
  },
  {
   "cell_type": "markdown",
   "metadata": {},
   "source": [
    "### Plotting in igraph\n",
    "\n",
    "* igraph uses **cairo** for plotting, along with a python interface such as **pycairo** or **cairocffi**.\n",
    "* latest versions of igraph can also use **matplotlib** (see example below)\n",
    "* graph can be exported as **networkx** format which can be used in **bokeh** for interactive plotting\n",
    "* another options is to save the graph in DOT format used in **GraphViz**\n"
   ]
  },
  {
   "cell_type": "markdown",
   "metadata": {},
   "source": [
    "Here's an example of how to multiplot with matplotlib"
   ]
  },
  {
   "cell_type": "code",
   "execution_count": null,
   "metadata": {},
   "outputs": [],
   "source": [
    "fig, ((ax1,ax2),(ax3,ax4)) = plt.subplots(2,2, figsize=(8,8))\n",
    "sg = g.subgraph(subgraph_nodes)\n",
    "ig.plot(sg.as_undirected(combine_edges=sum), bbox=(250,250), vertex_label=sg.vs['name'], \n",
    "        vertex_label_size=8, margin=50, target=ax1)\n",
    "sg = sg.simplify(combine_edges=sum)\n",
    "ig.plot(sg.as_undirected(combine_edges=sum),bbox=(250,250), vertex_label=sg.vs['name'], \n",
    "        vertex_label_size=8, margin=50, target=ax2)\n",
    "ig.plot(sg, bbox=(250,250), vertex_label=sg.vs['name'], \n",
    "        vertex_label_size=6, margin=50, target=ax3)\n",
    "sg.es['width'] = [int(np.log10(x)+1) for x in sg.es['weight']]\n",
    "ig.plot(sg, bbox=(250,250), vertex_label=sg.vs['name'], \n",
    "        vertex_label_size=6, margin=50, target=ax4);"
   ]
  },
  {
   "cell_type": "markdown",
   "metadata": {},
   "source": [
    "## Other Representations of Graphs\n",
    "\n",
    "Here's how to get from other representation of graphs from our igraph object:\n",
    "* graph as a list of edges (dataframe)\n",
    "* graph as an adjacency matrix\n",
    "* graph as a weighted adjacency matrix"
   ]
  },
  {
   "cell_type": "code",
   "execution_count": null,
   "metadata": {},
   "outputs": [],
   "source": [
    "## here, DNW stands for directed, named, weighted\n",
    "sg.summary()"
   ]
  },
  {
   "cell_type": "markdown",
   "metadata": {},
   "source": [
    "#### List of edges\n",
    "We'll export to pandas using `.get_edge_dataframe()` to do this"
   ]
  },
  {
   "cell_type": "code",
   "execution_count": null,
   "metadata": {},
   "outputs": [],
   "source": [
    "df = sg.get_edge_dataframe()"
   ]
  },
  {
   "cell_type": "code",
   "execution_count": null,
   "metadata": {},
   "outputs": [],
   "source": [
    "df"
   ]
  },
  {
   "cell_type": "markdown",
   "metadata": {},
   "source": [
    "Now let's replace node ids with names"
   ]
  },
  {
   "cell_type": "code",
   "execution_count": null,
   "metadata": {
    "scrolled": true
   },
   "outputs": [],
   "source": [
    "df_vert = sg.get_vertex_dataframe()\n",
    "df['source'].replace(df_vert['name'], inplace=True)\n",
    "df['target'].replace(df_vert['name'], inplace=True)\n",
    "df.sort_values(by='weight', ascending=False, inplace=True)\n",
    "df"
   ]
  },
  {
   "cell_type": "markdown",
   "metadata": {},
   "source": [
    "We could also have built the dataframe column by column instead:"
   ]
  },
  {
   "cell_type": "code",
   "execution_count": null,
   "metadata": {},
   "outputs": [],
   "source": [
    "df = pd.DataFrame()\n",
    "df['from'] = [sg.vs[e.tuple[0]]['name'] for e in sg.es]\n",
    "df['to'] = [sg.vs[e.tuple[1]]['name'] for e in sg.es]\n",
    "df['weight'] = [e['weight'] for e in sg.es]\n",
    "df.sort_values(by='weight', ascending=False, inplace=True)\n",
    "df"
   ]
  },
  {
   "cell_type": "markdown",
   "metadata": {},
   "source": [
    "#### Adjacency matrix (binary)"
   ]
  },
  {
   "cell_type": "code",
   "execution_count": null,
   "metadata": {},
   "outputs": [],
   "source": [
    "print(sg.get_adjacency())"
   ]
  },
  {
   "cell_type": "markdown",
   "metadata": {},
   "source": [
    "#### Weighted adjacency matrix"
   ]
  },
  {
   "cell_type": "code",
   "execution_count": null,
   "metadata": {},
   "outputs": [],
   "source": [
    "print(sg.get_adjacency(attribute='weight'))"
   ]
  },
  {
   "cell_type": "markdown",
   "metadata": {},
   "source": [
    "### Questions\n",
    "Try to answer the following questions using the graph objects that we've created.\n",
    "\n",
    "#### 1. How many airports are in California (CA)?\n"
   ]
  },
  {
   "cell_type": "code",
   "execution_count": null,
   "metadata": {},
   "outputs": [],
   "source": []
  },
  {
   "cell_type": "markdown",
   "metadata": {},
   "source": [
    "#### 2. Which 5 states have the most airports? the least?\n",
    "Hint: we've already imported `Counter` from `collections`"
   ]
  },
  {
   "cell_type": "code",
   "execution_count": null,
   "metadata": {},
   "outputs": [],
   "source": [
    "# most\n"
   ]
  },
  {
   "cell_type": "code",
   "execution_count": null,
   "metadata": {},
   "outputs": [],
   "source": [
    "# least\n"
   ]
  },
  {
   "cell_type": "markdown",
   "metadata": {},
   "source": [
    "#### 3. Which airport is the southernmost? northernmost?"
   ]
  },
  {
   "cell_type": "code",
   "execution_count": null,
   "metadata": {},
   "outputs": [],
   "source": [
    "# southernmost\n"
   ]
  },
  {
   "cell_type": "code",
   "execution_count": null,
   "metadata": {},
   "outputs": [],
   "source": [
    "# northernmost \n"
   ]
  },
  {
   "cell_type": "markdown",
   "metadata": {},
   "source": [
    "#### 4. How many routes have at least 1 million passengers?\n",
    "\n"
   ]
  },
  {
   "cell_type": "code",
   "execution_count": null,
   "metadata": {},
   "outputs": [],
   "source": []
  },
  {
   "cell_type": "markdown",
   "metadata": {},
   "source": [
    "#### 5. Which route is the busiest one-way? both ways?\n"
   ]
  },
  {
   "cell_type": "code",
   "execution_count": null,
   "metadata": {},
   "outputs": [],
   "source": [
    "# one-way\n"
   ]
  },
  {
   "cell_type": "code",
   "execution_count": null,
   "metadata": {},
   "outputs": [],
   "source": [
    "# both ways\n"
   ]
  },
  {
   "cell_type": "markdown",
   "metadata": {},
   "source": [
    "### Possible Solutions"
   ]
  },
  {
   "cell_type": "code",
   "execution_count": null,
   "metadata": {},
   "outputs": [],
   "source": [
    "## airports in CA, two ways\n",
    "print('airports in CA:', \n",
    "      len([v for v in g.vs if v['state'] == 'CA']), \n",
    "      sum(airport_df['state']=='CA'))\n",
    "\n",
    "## states with most airports\n",
    "print('\\nmost airports:',Counter(g.vs['state']).most_common(5))\n",
    "\n",
    "## states with the least airports\n",
    "print('\\nleast airports:',Counter(g.vs['state']).most_common()[-5:])\n",
    "\n",
    "## north/south\n",
    "latitude = [-x[1] for x in g.vs['layout']]\n",
    "v = np.argmin(latitude)\n",
    "print('\\nsouthernmost:',g.vs[v],'\\n')\n",
    "v = np.argmax(latitude)\n",
    "print('northernmost:',g.vs[v])\n",
    "\n",
    "## 1M+ connections\n",
    "print('\\n1M+ connections:',len([e for e in g.es if e['weight'] >= 1000000]),'\\n')\n",
    "\n",
    "## busiest route (1-way) \n",
    "e = np.argmax(g.es['weight'])\n",
    "print_edge_details(g, e)\n",
    "\n",
    "## busiest route (2-way) \n",
    "g_und = g.as_undirected(combine_edges=sum)\n",
    "e = np.argmax(g_und.es['weight'])\n",
    "print('\\n2-way:', g_und.vs[g_und.es[e].tuple[0]]['name'], '---',  g_und.es[e]['weight'], '---', \n",
    "      g_und.vs[g_und.es[e].tuple[1]]['name'],)\n"
   ]
  },
  {
   "cell_type": "markdown",
   "metadata": {},
   "source": [
    "## 1.2 Exploratory Data Analysis (EDA)"
   ]
  },
  {
   "cell_type": "markdown",
   "metadata": {},
   "source": [
    "### Discussion\n",
    "\n",
    "What makes network/graph data challenging?\n",
    "\n",
    "* The points are connected and can not be considered as independent samples\n",
    "* Inference on graphs requires the topological structure: node, edge, neighbourhoods, etc.\n",
    "* The node's topological roles can be highly variable (degree, betweenness, centrality, etc.)\n"
   ]
  },
  {
   "cell_type": "markdown",
   "metadata": {},
   "source": [
    "### Visualization\n",
    "\n",
    "Let's take a look at the entire graph. \n",
    "\n",
    "First, using a **force directed layout**, we see a small **disconnected component**, this is not uncommon; \n",
    "\n",
    "In social networks and many other types of graphs, a common situation is to have a **giant component** with most nodes, and some small components."
   ]
  },
  {
   "cell_type": "code",
   "execution_count": null,
   "metadata": {},
   "outputs": [],
   "source": [
    "ig.plot(g, vertex_size=5, edge_arrow_size=.5, edge_color='grey', \n",
    "        layout=g.layout_fruchterman_reingold(), bbox=(500,400))"
   ]
  },
  {
   "cell_type": "markdown",
   "metadata": {},
   "source": [
    "Next let's use the latitutde and longitude based layout...this reveals a familiar shape."
   ]
  },
  {
   "cell_type": "code",
   "execution_count": null,
   "metadata": {},
   "outputs": [],
   "source": [
    "ig.plot(g, vertex_size=5, edge_arrow_size=.5, edge_color='grey', \n",
    "        layout=g.vs['layout'], bbox=(500,400))"
   ]
  },
  {
   "cell_type": "markdown",
   "metadata": {},
   "source": [
    "This is a LOT to look at. We can look at the subgraph induced by a single state. "
   ]
  },
  {
   "cell_type": "code",
   "execution_count": null,
   "metadata": {},
   "outputs": [],
   "source": [
    "st = 'MN'\n",
    "sg = g.subgraph([v for v in g.vs if v['state'] == st])\n",
    "ig.plot(sg,bbox=(450,350), vertex_label=sg.vs['name'], vertex_size=15,layout=sg.vs['layout'],\n",
    "            vertex_label_size=6, margin=50)"
   ]
  },
  {
   "cell_type": "markdown",
   "metadata": {},
   "source": [
    "### Node degree(s)\n",
    "\n",
    "A key node feature is **degree**.\n",
    "\n",
    "With a **directed graph**, we can distinguish 4 concepts of degree (!)\n",
    "\n",
    "* in-degree: number of edges coming in\n",
    "* out-degree: number of edges going out\n",
    "* total degree: sum of the above 2 quantities\n",
    "* (undirected) degree: degree when reducing to **undirected** graph\n",
    "\n",
    "Let's look at all four degrees in our airport graph.\n"
   ]
  },
  {
   "cell_type": "code",
   "execution_count": null,
   "metadata": {
    "scrolled": true
   },
   "outputs": [],
   "source": [
    "df = pd.DataFrame()\n",
    "df['node'] = g.vs['name']\n",
    "df['in-deg'] = g.degree(mode='in')\n",
    "df['out-deg'] = g.degree(mode='out')\n",
    "df['total-deg'] = g.degree(mode='all')\n",
    "df['und-deg'] = g.as_undirected().degree()"
   ]
  },
  {
   "cell_type": "code",
   "execution_count": null,
   "metadata": {},
   "outputs": [],
   "source": [
    "df.loc[df['node'].isin(['SFO','LAX','OAK','OPF'])]"
   ]
  },
  {
   "cell_type": "markdown",
   "metadata": {},
   "source": [
    "### Ego-net of a node\n",
    "\n",
    "The **ego-net** of a node is the subgraph induced by a node and its neighbours. Let's take a look the ego-net of OPF, the Miami executive airport.\n",
    "\n"
   ]
  },
  {
   "cell_type": "code",
   "execution_count": null,
   "metadata": {},
   "outputs": [],
   "source": [
    "sg = g.induced_subgraph(g.neighborhood(g.vs.find(name='OPF')))"
   ]
  },
  {
   "cell_type": "code",
   "execution_count": null,
   "metadata": {},
   "outputs": [],
   "source": [
    "## with multiple plots, we'll set some parameters for re-use\n",
    "visual_style = {}\n",
    "visual_style[\"vertex_label_size\"] = 8\n",
    "visual_style[\"bbox\"] = (300, 300)\n",
    "visual_style[\"margin\"] = 50\n"
   ]
  },
  {
   "cell_type": "code",
   "execution_count": null,
   "metadata": {},
   "outputs": [],
   "source": [
    "ig.plot(sg, **visual_style, vertex_label=sg.vs['name'])"
   ]
  },
  {
   "cell_type": "markdown",
   "metadata": {},
   "source": [
    "Here's the undirected version"
   ]
  },
  {
   "cell_type": "code",
   "execution_count": null,
   "metadata": {},
   "outputs": [],
   "source": [
    "sg = sg.as_undirected()\n",
    "ig.plot(sg, **visual_style, vertex_label=sg.vs['name'])"
   ]
  },
  {
   "cell_type": "markdown",
   "metadata": {},
   "source": [
    "### Weighted degree a.k.a. Strength\n",
    "\n",
    "With **weighted** graphs, we also define:\n",
    "\n",
    "* in-strength: sum of weights of all incoming edges\n",
    "* out-strength: sum of weights of all outgoing edges\n",
    "* total-strength: sum of the above two quantities\n",
    "\n",
    "When converting a directed graph to undirected, it is common to add the edge weights, so we get the \"total-strength\". We check this below by computing the undirected strength (`und-str`) by combining edges by sum when converting from directed to undirected. \n"
   ]
  },
  {
   "cell_type": "code",
   "execution_count": null,
   "metadata": {},
   "outputs": [],
   "source": [
    "df['in-str'] = g.strength(mode='in', weights='weight')\n",
    "df['out-str'] = g.strength(mode='out', weights='weight')\n",
    "df['total-str'] = g.strength(mode='all', weights='weight')\n",
    "df['und-str'] = g.as_undirected(combine_edges=sum).strength(weights='weight')\n",
    "df.loc[df['node'].isin(['SFO','LAX','OAK','OPF'])]"
   ]
  },
  {
   "cell_type": "code",
   "execution_count": null,
   "metadata": {},
   "outputs": [],
   "source": [
    "all(df['total-str'] == df['und-str'])"
   ]
  },
  {
   "cell_type": "markdown",
   "metadata": {},
   "source": [
    "### Degree distribution\n",
    "\n",
    "Also common in most social-type networks, degree distribution is far from uniform in the airport graph, with lots of low degree nodes, and a small number of high degree ones.\n",
    "\n",
    "This is indicative of **power-law** degree distribution.\n",
    "\n",
    "In such networks, shortest paths between connected nodes are typically extremely short (the **6-degree of separation** phenomenon)."
   ]
  },
  {
   "cell_type": "code",
   "execution_count": null,
   "metadata": {},
   "outputs": [],
   "source": [
    "plt.figure(figsize=(8,3))\n",
    "plt.subplot(121)\n",
    "plt.hist(g.degree(mode='in'), bins=30)\n",
    "plt.title('in-degree')\n",
    "plt.xlabel('degree')\n",
    "plt.ylabel('frequency')\n",
    "plt.subplot(122)\n",
    "plt.hist(g.degree(mode='out'), bins=30)\n",
    "plt.title('out-degree')\n",
    "plt.xlabel('degree');"
   ]
  },
  {
   "cell_type": "markdown",
   "metadata": {},
   "source": [
    "### Paths and connected components\n",
    "\n",
    "Here are some basic definitions related to how connected nodes are with each other:\n",
    "\n",
    "* A **path** is a sequence of edges connecting two nodes\n",
    "* A **connected component**, is a subset of nodes such that there is a path between every pair of nodes in the subset \n",
    "* **Path length** is usually the number of edges (**hop count**), but weights can also be considered to define path length\n",
    "* For directed graphs, we can define two notions of **connectivity** by depending on whether we take directionality into account (**strong** connectivity) or not (**weak** connectivity); those are the same in undirected graphs\n"
   ]
  },
  {
   "cell_type": "code",
   "execution_count": null,
   "metadata": {},
   "outputs": [],
   "source": [
    "print('strong connectivity:', g.connected_components(mode='strong').summary())"
   ]
  },
  {
   "cell_type": "code",
   "execution_count": null,
   "metadata": {},
   "outputs": [],
   "source": [
    "print('weak connectivity:',g.connected_components(mode='weak').summary())"
   ]
  },
  {
   "cell_type": "code",
   "execution_count": null,
   "metadata": {},
   "outputs": [],
   "source": [
    "g_und = g.as_undirected(combine_edges=sum) ## undirected graph, summing the weights\n",
    "print('undirected connectivity:',g_und.connected_components().summary())"
   ]
  },
  {
   "cell_type": "markdown",
   "metadata": {},
   "source": [
    "It can be interesting to consider where there are paths between nodes, and where there are not. Let's look at where we can get to starting from a given airport. Recall that there are 464 airports (number of nodes `.vcount()`).\n",
    "\n",
    "Let's look at OPF and SFO and explore the shortest (directed) paths."
   ]
  },
  {
   "cell_type": "code",
   "execution_count": null,
   "metadata": {},
   "outputs": [],
   "source": [
    "for ap in [\"OPF\",\"SFO\"]:\n",
    "    print(\"\\nlooking at:\", ap)\n",
    "    v = g.vs.find(name=ap)\n",
    "    sp = g.distances(source=v, mode='out')[0]\n",
    "    print('number of \"unreacheable\" airports:',sum([i == np.inf for i in sp]))\n",
    "    print('mean number of hops to other airports:',np.mean([i for i in sp if i != np.inf ]))\n",
    "    print('max number of hops to other airports:',np.max([i for i in sp if i != np.inf ]))"
   ]
  },
  {
   "cell_type": "markdown",
   "metadata": {},
   "source": [
    "###  Why are some airports \"unreacheable\" from SFO?\n",
    "\n",
    "Two airports are in a separate (weak) connected component. What about the other 18? Let's see if we can identify why all of these airports are unreachable. To make these standout, let's colour unreachable nodes red."
   ]
  },
  {
   "cell_type": "code",
   "execution_count": null,
   "metadata": {},
   "outputs": [],
   "source": [
    "unreachable = np.where([i == np.inf for i in sp])\n",
    "for j in unreachable:\n",
    "    g.vs[j]['color'] = 'red' \n",
    "unreachable"
   ]
  },
  {
   "cell_type": "code",
   "execution_count": null,
   "metadata": {},
   "outputs": [],
   "source": [
    "ig.plot(g, vertex_size=5, edge_arrow_size=.5, edge_color='grey', \n",
    "        layout=g.layout_fruchterman_reingold(), bbox=(500,400))"
   ]
  },
  {
   "cell_type": "markdown",
   "metadata": {},
   "source": [
    "We see 2 airports in a small connected component "
   ]
  },
  {
   "cell_type": "code",
   "execution_count": null,
   "metadata": {},
   "outputs": [],
   "source": [
    "g.vs['cc'] = g.connected_components('weak').membership\n",
    "Counter(g.vs['cc'])"
   ]
  },
  {
   "cell_type": "markdown",
   "metadata": {},
   "source": [
    "Let's remove those 2 nodes. We make a copy of the graph to keep the original graph intact. "
   ]
  },
  {
   "cell_type": "code",
   "execution_count": null,
   "metadata": {},
   "outputs": [],
   "source": [
    "v_list = [v['name'] for v in g.vs if v['cc']==1]\n",
    "g_copy = g.copy()\n",
    "g_copy.delete_vertices(v_list)"
   ]
  },
  {
   "cell_type": "markdown",
   "metadata": {},
   "source": [
    "Now let's also remove airports that have no incoming links."
   ]
  },
  {
   "cell_type": "code",
   "execution_count": null,
   "metadata": {},
   "outputs": [],
   "source": [
    "v_list = [v for v in g_copy.vs if g_copy.degree(v,'in') == 0]\n",
    "print('removing',len(v_list),'more')\n",
    "g_copy.delete_vertices(v_list)"
   ]
  },
  {
   "cell_type": "markdown",
   "metadata": {},
   "source": [
    "There's still one such node left.\n",
    "\n",
    "Let's recursively remove airport(s) without incoming links"
   ]
  },
  {
   "cell_type": "code",
   "execution_count": null,
   "metadata": {},
   "outputs": [],
   "source": [
    "v_list = [v for v in g_copy.vs if g_copy.degree(v,'in') == 0]\n",
    "print('removing', len(v_list),'more')\n",
    "g_copy.delete_vertices(v_list)"
   ]
  },
  {
   "cell_type": "markdown",
   "metadata": {},
   "source": [
    "That seems to have got them all. Once we remove the other component and recursively remove airports with no incoming links, all the airports become reachable from SFO. "
   ]
  },
  {
   "cell_type": "code",
   "execution_count": null,
   "metadata": {},
   "outputs": [],
   "source": [
    "for ap in [\"SFO\"]:\n",
    "    print(\"\\nlooking at:\", ap)\n",
    "    v = g_copy.vs.find(name=ap)\n",
    "    sp = g_copy.distances(source=v, mode='out')[0]\n",
    "    print('number of \"unreacheable\" airports:',sum([i == np.inf for i in sp]))\n",
    "    print('mean number of hops to other airports:',np.mean([i for i in sp if i != np.inf ]))\n",
    "    print('max number of hops to other airports:',np.max([i for i in sp if i != np.inf ]))"
   ]
  },
  {
   "cell_type": "markdown",
   "metadata": {},
   "source": [
    "### Questions\n",
    "\n",
    "#### 1. Which airport has the largest number of outgoing connections? incoming? total?"
   ]
  },
  {
   "cell_type": "code",
   "execution_count": null,
   "metadata": {},
   "outputs": [],
   "source": [
    "# outgoing\n"
   ]
  },
  {
   "cell_type": "code",
   "execution_count": null,
   "metadata": {},
   "outputs": [],
   "source": [
    "# incoming\n"
   ]
  },
  {
   "cell_type": "code",
   "execution_count": null,
   "metadata": {},
   "outputs": [],
   "source": [
    "# total\n"
   ]
  },
  {
   "cell_type": "markdown",
   "metadata": {},
   "source": [
    "#### 2. Which airport has the largest number of passengers in total? the smallest?\n",
    "\n"
   ]
  },
  {
   "cell_type": "code",
   "execution_count": null,
   "metadata": {},
   "outputs": [],
   "source": [
    "# largest\n"
   ]
  },
  {
   "cell_type": "code",
   "execution_count": null,
   "metadata": {},
   "outputs": [],
   "source": [
    "# smallest\n"
   ]
  },
  {
   "cell_type": "markdown",
   "metadata": {},
   "source": [
    "#### 3. What happens if we ignore direction of flights and consider: \n",
    "* the number of \"unreacheable\" airports from SFO, OPF\n",
    "* the mean number of hops to other airports from SFO, OPF\n",
    "* max number of hops to other airports from SFO, OPF"
   ]
  },
  {
   "cell_type": "code",
   "execution_count": null,
   "metadata": {},
   "outputs": [],
   "source": []
  },
  {
   "cell_type": "markdown",
   "metadata": {},
   "source": [
    "### Possible Solutions"
   ]
  },
  {
   "cell_type": "code",
   "execution_count": null,
   "metadata": {
    "scrolled": true
   },
   "outputs": [],
   "source": [
    "## outgoing connections\n",
    "x = np.argwhere(g.degree(mode='out') == np.max(g.degree(mode='out'))).flatten()\n",
    "for v in x:\n",
    "    print(g.vs[v]['name'],\"has outgoing connections to\",g.degree(v,'out'),\"airports\")\n",
    "\n",
    "## incoming connections\n",
    "x = np.argwhere(g.degree(mode='in') == np.max(g.degree(mode='in'))).flatten()\n",
    "for v in x:\n",
    "    print(g.vs[v]['name'],\"has incoming connections from\",g.degree(v,'in'),\"airports\")\n",
    "\n",
    "## any connections\n",
    "x = np.argwhere(g_und.degree() == np.max(g_und.degree())).flatten()\n",
    "for v in x:\n",
    "    print(g_und.vs[v]['name'],\"has connections with\",g_und.degree(v),\"airports\\n\")\n",
    "\n",
    "## largest number of passengers - total\n",
    "v = np.argmax(g_und.strength(weights='weight'))\n",
    "print(g_und.vs[v]['name'],\"has\",int(g.strength(v, weights='weight')),\"total passengers\")\n",
    "\n",
    "## smallest number of passengers - total\n",
    "v = np.argmin(g_und.strength(weights='weight'))\n",
    "print(g_und.vs[v]['name'],\"has\",int(g.strength(v, weights='weight')),\"total passengers\")\n",
    "\n",
    "## undirected short paths\n",
    "for ap in [\"OPF\",\"SFO\"]:\n",
    "    print(\"\\nlooking at:\",ap)\n",
    "    v = g.vs.find(name=ap)\n",
    "    sp = g.distances(source=v, mode='all')\n",
    "    print('number of unreacheable airports:',sum([i == np.inf for i in sp[0]]))\n",
    "    print('mean number of hops to other airports:',np.mean([i for i in sp[0] if i != np.inf ]))\n",
    "    print('max number of hops to other airports:',np.max([i for i in sp[0] if i != np.inf ]))\n",
    "    "
   ]
  },
  {
   "cell_type": "markdown",
   "metadata": {},
   "source": [
    "## 1.3 Node importance\n",
    "\n",
    "We explore 3 concepts of node (vertex) importance in a graph:\n",
    "\n",
    "* **coreness**: useful to prune nodes with low connectivity in a graph\n",
    "* **centrality**: identify most influential nodes in various ways\n",
    "* **betweenness**: identify nodes on geodesics (shortest paths) between several other nodes\n"
   ]
  },
  {
   "cell_type": "markdown",
   "metadata": {},
   "source": [
    "### Coreness (k-cores)\n",
    "\n",
    "The **k-core** of a graph is the maximal subgraph where all nodes have degree at least k. \n",
    "\n",
    "The **coreness** of a node is k if it belongs to the k-core, but not the (k+1)-core. \n",
    "\n",
    "This is usually done with the **undirected** degrees, but one can also look for 'in' and 'out' k-cores.\n",
    "\n",
    "Below we compute coreness for the undirected version of the airport graph. We see:\n",
    "\n",
    "* many nodes in large 50-core subgraph (which we plot)\n",
    "* many nodes with small coreness (1 or 2)\n",
    "\n",
    "Pruning nodes with small coreness often drastically reduces the size of the graph.\n"
   ]
  },
  {
   "cell_type": "code",
   "execution_count": null,
   "metadata": {},
   "outputs": [],
   "source": [
    "g_und = g_und.simplify(combine_edges=sum)\n",
    "## most frequent coreness values\n",
    "g_und.vs['core'] = g_und.coreness()\n",
    "Counter(g_und.vs['core']).most_common(3)"
   ]
  },
  {
   "cell_type": "code",
   "execution_count": null,
   "metadata": {},
   "outputs": [],
   "source": [
    "plt.hist(g_und.vs['core'], bins=25);"
   ]
  },
  {
   "cell_type": "markdown",
   "metadata": {},
   "source": [
    "Let's look at the largest k-core - plot with lat/lon layout.\n",
    "\n",
    "We see that all of the nodes in the largest k-core are major airports."
   ]
  },
  {
   "cell_type": "code",
   "execution_count": null,
   "metadata": {},
   "outputs": [],
   "source": [
    "sg = g_und.subgraph([v for v in g_und.vs if v['core'] == 50])\n",
    "ig.plot(sg,bbox=(600,450), vertex_label=sg.vs['name'], vertex_size=15,layout=sg.vs['layout'],\n",
    "            vertex_label_size=6, margin=50)"
   ]
  },
  {
   "cell_type": "markdown",
   "metadata": {},
   "source": [
    "### Centrality, betweenness\n",
    "\n",
    "There are various ways to define **centrality** of nodes in a network, such as:\n",
    "* its **degree** or **strength** (weighted degree)\n",
    "* **pagerank** (proportional to number of visits in random walks)\n",
    "\n",
    "**Betweenness** measures the proportion of shortest paths (geodesics) going through each node.\n",
    "\n",
    "Let's explore this with the California subgraph.\n",
    "\n",
    "First induce the subgraph based on vertices in California."
   ]
  },
  {
   "cell_type": "code",
   "execution_count": null,
   "metadata": {},
   "outputs": [],
   "source": [
    "sg = g.subgraph([v for v in g.vs if v['state']=='CA'])"
   ]
  },
  {
   "cell_type": "markdown",
   "metadata": {},
   "source": [
    "Then keep only nodes with some connection within the state"
   ]
  },
  {
   "cell_type": "code",
   "execution_count": null,
   "metadata": {},
   "outputs": [],
   "source": [
    "sg = sg.subgraph([v for v in sg.vs() if v.degree()>0])"
   ]
  },
  {
   "cell_type": "markdown",
   "metadata": {},
   "source": [
    "Drop loops"
   ]
  },
  {
   "cell_type": "code",
   "execution_count": null,
   "metadata": {},
   "outputs": [],
   "source": [
    "sg = sg.simplify(multiple=False)"
   ]
  },
  {
   "cell_type": "markdown",
   "metadata": {},
   "source": [
    "And take a look:"
   ]
  },
  {
   "cell_type": "code",
   "execution_count": null,
   "metadata": {},
   "outputs": [],
   "source": [
    "print(sg.vcount(),'nodes and',sg.ecount(),'directed edges')\n",
    "ig.plot(sg,bbox=(400,400), vertex_label=sg.vs['name'], vertex_size=15,layout=sg.vs['layout'],\n",
    "            vertex_label_size=6, margin=50, edge_arrow_size=.33, edge_color='grey')"
   ]
  },
  {
   "cell_type": "markdown",
   "metadata": {},
   "source": [
    "Compute a few things and sort with respect to pagerank scores"
   ]
  },
  {
   "cell_type": "code",
   "execution_count": null,
   "metadata": {},
   "outputs": [],
   "source": [
    "df = pd.DataFrame()\n",
    "df['degree'] = sg.degree()\n",
    "df['pagerank'] = sg.pagerank(weights='weight')\n",
    "n = sg.vcount()\n",
    "df['between'] = [2 * x / ((n - 1) * (n - 2)) for x in sg.betweenness()] ## normalized\n",
    "df['state'] = sg.vs['state']\n",
    "df['city'] = sg.vs['city']\n",
    "df['name'] = sg.vs['name']\n",
    "df.sort_values(by='pagerank', inplace=True, ascending=False)\n",
    "df.head()"
   ]
  },
  {
   "cell_type": "markdown",
   "metadata": {},
   "source": [
    "We see SAN having much lower beweenness than the two big hub airports"
   ]
  },
  {
   "cell_type": "markdown",
   "metadata": {},
   "source": [
    "High degree nodes are typically more likely to have high centrality/betweenness."
   ]
  },
  {
   "cell_type": "code",
   "execution_count": null,
   "metadata": {},
   "outputs": [],
   "source": [
    "plt.figure(figsize=(9,4))\n",
    "plt.subplot(121)\n",
    "plt.scatter(df['degree'],df['pagerank'])\n",
    "plt.xlabel('degree')\n",
    "plt.ylabel('pagerank')\n",
    "plt.subplot(122)\n",
    "plt.scatter(df['degree'],df['between'])\n",
    "plt.xlabel('degree')\n",
    "plt.ylabel('betweenness');"
   ]
  },
  {
   "cell_type": "markdown",
   "metadata": {},
   "source": [
    "### Questions\n",
    "\n",
    "There are nodes in the California subgraph with zero betweenness, but pagerank score above 0.04.\n",
    "\n",
    "#### 1. Which nodes are they?"
   ]
  },
  {
   "cell_type": "code",
   "execution_count": null,
   "metadata": {},
   "outputs": [],
   "source": []
  },
  {
   "cell_type": "markdown",
   "metadata": {},
   "source": [
    "#### 2. To explore why this might be, plot the ego net of these nodes and their neighbours."
   ]
  },
  {
   "cell_type": "code",
   "execution_count": null,
   "metadata": {},
   "outputs": [],
   "source": []
  },
  {
   "cell_type": "markdown",
   "metadata": {},
   "source": [
    "#### 3. What might explain the zero betweenness and pagerank above 0.04?\n",
    "\n",
    "Recall: pagerank can be interpreted as visits from multiple random walks ...\n"
   ]
  },
  {
   "cell_type": "code",
   "execution_count": null,
   "metadata": {},
   "outputs": [],
   "source": []
  },
  {
   "cell_type": "markdown",
   "metadata": {},
   "source": [
    "### Possible Solutions"
   ]
  },
  {
   "cell_type": "code",
   "execution_count": null,
   "metadata": {},
   "outputs": [],
   "source": [
    "print(df[(df['between']==0) & (df['pagerank']>.04)])\n",
    "\n",
    "## get all vertices in the neighbourhoods\n",
    "v = set(sg.neighborhood(sg.vs.find('MCE'))).union(set(sg.neighborhood(sg.vs.find('VIS'))))\n",
    "\n",
    "## plot induced subgraph\n",
    "sg_ego = sg.subgraph(v)\n",
    "ig.plot(sg_ego,bbox=(300,200), vertex_label=sg_ego.vs['name'], vertex_size=15,layout=sg_ego.vs['layout'],\n",
    "            vertex_label_size=6, margin=50)\n",
    "\n",
    "## those two nodes are disconnected from the rest!\n",
    "## thus, betweenness must be zero\n",
    "## pagerank is above zero as a walk starting at one of those nodes is trapped\n"
   ]
  },
  {
   "cell_type": "markdown",
   "metadata": {},
   "source": [
    "## Bonus Material\n",
    "See the \"extra\" notebook for Part 1"
   ]
  }
 ],
 "metadata": {
  "kernelspec": {
   "display_name": "Python [conda env:mining_graphs]",
   "language": "python",
   "name": "conda-env-mining_graphs-py"
  },
  "language_info": {
   "codemirror_mode": {
    "name": "ipython",
    "version": 3
   },
   "file_extension": ".py",
   "mimetype": "text/x-python",
   "name": "python",
   "nbconvert_exporter": "python",
   "pygments_lexer": "ipython3",
   "version": "3.7.9"
  }
 },
 "nbformat": 4,
 "nbformat_minor": 4
}
